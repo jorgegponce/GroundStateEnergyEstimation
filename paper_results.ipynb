{
 "cells": [
  {
   "attachments": {},
   "cell_type": "markdown",
   "metadata": {},
   "source": [
    "# Fermi-Hubbard Hamiltonian\n",
    "___\n",
    "This section creates the Fermi-Hubbard Hamiltonian with OpenFermion"
   ]
  },
  {
   "cell_type": "code",
   "execution_count": 16,
   "metadata": {},
   "outputs": [],
   "source": [
    "# from scipy import sparse\n",
    "from scipy.sparse import linalg\n",
    "from openfermion import fermi_hubbard, jordan_wigner, get_sparse_operator"
   ]
  },
  {
   "cell_type": "code",
   "execution_count": 17,
   "metadata": {},
   "outputs": [
    {
     "name": "stdout",
     "output_type": "stream",
     "text": [
      "Ground State Energy: -2.4207019828364125\n",
      "JWT transformed Hamiltonian:\n",
      "(10+0j) [] +\n",
      "(-0.5+0j) [X0 Z1 X2] +\n",
      "(-0.5+0j) [Y0 Z1 Y2] +\n",
      "(-2.5+0j) [Z0] +\n",
      "(2.5+0j) [Z0 Z1] +\n",
      "(-0.5+0j) [X1 Z2 X3] +\n",
      "(-0.5+0j) [Y1 Z2 Y3] +\n",
      "(-2.5+0j) [Z1] +\n",
      "(-0.5+0j) [X2 Z3 X4] +\n",
      "(-0.5+0j) [Y2 Z3 Y4] +\n",
      "(-2.5+0j) [Z2] +\n",
      "(2.5+0j) [Z2 Z3] +\n",
      "(-0.5+0j) [X3 Z4 X5] +\n",
      "(-0.5+0j) [Y3 Z4 Y5] +\n",
      "(-2.5+0j) [Z3] +\n",
      "(-0.5+0j) [X4 Z5 X6] +\n",
      "(-0.5+0j) [Y4 Z5 Y6] +\n",
      "(-2.5+0j) [Z4] +\n",
      "(2.5+0j) [Z4 Z5] +\n",
      "(-0.5+0j) [X5 Z6 X7] +\n",
      "(-0.5+0j) [Y5 Z6 Y7] +\n",
      "(-2.5+0j) [Z5] +\n",
      "(-2.5+0j) [Z6] +\n",
      "(2.5+0j) [Z6 Z7] +\n",
      "(-2.5+0j) [Z7]\n"
     ]
    }
   ],
   "source": [
    "\"\"\"Define the Hamiltonian.\"\"\"\n",
    "# Parameters from the paper\n",
    "\n",
    "nsites = 4\n",
    "U = 10.0\n",
    "\n",
    "# Hopping Integral\n",
    "\n",
    "# In the paper U/t = 4\n",
    "t = U / 4\n",
    "\n",
    "# Is the sign of the tunneling right?\n",
    "fermionic_hamiltonian = fermi_hubbard(1, nsites, tunneling=-t, coulomb=U, periodic=False)\n",
    "\n",
    "# Map to QubitOperator using the JW transform\n",
    "jw_hamiltonian = jordan_wigner(fermionic_hamiltonian)\n",
    "\n",
    "# Convert to Scipy sparse matrix\n",
    "hamiltonian_jw_sparse = get_sparse_operator(jw_hamiltonian)\n",
    "\n",
    "# Compute ground energy\n",
    "eigs, _ = linalg.eigsh(hamiltonian_jw_sparse, k=1, which=\"SA\")\n",
    "ground_energy = eigs[0]\n",
    "\n",
    "print(f\"Ground State Energy: {ground_energy}\")\n",
    "print(\"JWT transformed Hamiltonian:\")\n",
    "print(jw_hamiltonian)\n"
   ]
  },
  {
   "attachments": {},
   "cell_type": "markdown",
   "metadata": {},
   "source": [
    "# Qulacs Simulation"
   ]
  },
  {
   "cell_type": "code",
   "execution_count": 21,
   "metadata": {},
   "outputs": [
    {
     "name": "stdout",
     "output_type": "stream",
     "text": [
      "Succesfully created Qulacs Hamiltonian from OpenFermion Hamiltonian on 8 qubits\n"
     ]
    }
   ],
   "source": [
    "\"\"\"Convert OpenFermion Hamiltonian to Qulacs Observable\"\"\"\n",
    "\n",
    "from qulacs.observable import create_observable_from_openfermion_text\n",
    "from openfermion.utils import count_qubits\n",
    "\n",
    "qulacs_hamiltonian = create_observable_from_openfermion_text(str(jw_hamiltonian))\n",
    "\n",
    "n_qubits = count_qubits(jw_hamiltonian)\n",
    "\n",
    "\n",
    "print(f\"Succesfully created Qulacs Hamiltonian from OpenFermion Hamiltonian on {n_qubits} qubits\")\n"
   ]
  },
  {
   "cell_type": "code",
   "execution_count": 22,
   "metadata": {},
   "outputs": [
    {
     "name": "stdout",
     "output_type": "stream",
     "text": [
      "(-2.392084789084998+0j)\n"
     ]
    }
   ],
   "source": [
    "from qulacs import QuantumState\n",
    "\n",
    "state = QuantumState(n_qubits)\n",
    "state.set_Haar_random_state()\n",
    "\n",
    "approx_ground_state = qulacs_hamiltonian.solve_ground_state_eigenvalue_by_power_method(state, 1000)\n",
    "print(approx_ground_state)"
   ]
  },
  {
   "cell_type": "code",
   "execution_count": null,
   "metadata": {},
   "outputs": [],
   "source": []
  }
 ],
 "metadata": {
  "kernelspec": {
   "display_name": "venv",
   "language": "python",
   "name": "python3"
  },
  "language_info": {
   "codemirror_mode": {
    "name": "ipython",
    "version": 3
   },
   "file_extension": ".py",
   "mimetype": "text/x-python",
   "name": "python",
   "nbconvert_exporter": "python",
   "pygments_lexer": "ipython3",
   "version": "3.10.9"
  },
  "orig_nbformat": 4
 },
 "nbformat": 4,
 "nbformat_minor": 2
}
