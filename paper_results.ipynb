{
 "cells": [
  {
   "attachments": {},
   "cell_type": "markdown",
   "metadata": {},
   "source": [
    "# Fermi-Hubbard Hamiltonian\n",
    "___\n",
    "This section creates the Fermi-Hubbard Hamiltonian with OpenFermion"
   ]
  },
  {
   "cell_type": "code",
   "execution_count": 1,
   "metadata": {},
   "outputs": [],
   "source": [
    "# from scipy import sparse\n",
    "from scipy.sparse import linalg\n",
    "from openfermion import fermi_hubbard, jordan_wigner, get_sparse_operator\n",
    "from openfermion.utils import count_qubits"
   ]
  },
  {
   "cell_type": "code",
   "execution_count": 374,
   "metadata": {},
   "outputs": [
    {
     "name": "stdout",
     "output_type": "stream",
     "text": [
      "Ground State Energy: -6.562355678777142\n",
      "JWT transformed Hamiltonian:\n",
      "(10+0j) [] +\n",
      "(1.25+0j) [X0 Z1 X2] +\n",
      "(1.25+0j) [Y0 Z1 Y2] +\n",
      "(-2.5+0j) [Z0] +\n",
      "(2.5+0j) [Z0 Z1] +\n",
      "(1.25+0j) [X1 Z2 X3] +\n",
      "(1.25+0j) [Y1 Z2 Y3] +\n",
      "(-2.5+0j) [Z1] +\n",
      "(1.25+0j) [X2 Z3 X4] +\n",
      "(1.25+0j) [Y2 Z3 Y4] +\n",
      "(-2.5+0j) [Z2] +\n",
      "(2.5+0j) [Z2 Z3] +\n",
      "(1.25+0j) [X3 Z4 X5] +\n",
      "(1.25+0j) [Y3 Z4 Y5] +\n",
      "(-2.5+0j) [Z3] +\n",
      "(1.25+0j) [X4 Z5 X6] +\n",
      "(1.25+0j) [Y4 Z5 Y6] +\n",
      "(-2.5+0j) [Z4] +\n",
      "(2.5+0j) [Z4 Z5] +\n",
      "(1.25+0j) [X5 Z6 X7] +\n",
      "(1.25+0j) [Y5 Z6 Y7] +\n",
      "(-2.5+0j) [Z5] +\n",
      "(-2.5+0j) [Z6] +\n",
      "(2.5+0j) [Z6 Z7] +\n",
      "(-2.5+0j) [Z7]\n",
      "8\n"
     ]
    }
   ],
   "source": [
    "\"\"\"Define the Hamiltonian.\"\"\"\n",
    "# Parameters from the paper\n",
    "\n",
    "nsites = 4\n",
    "occupation_number = 2\n",
    "U = 10.0\n",
    "\n",
    "filled_sites = int(nsites/2) # Half filling\n",
    "\n",
    "# Hopping Integral\n",
    "\n",
    "# In the paper U/t = 4\n",
    "t = U / 4\n",
    "\n",
    "# Is the sign of the tunneling right?\n",
    "fermionic_hamiltonian = fermi_hubbard(1, nsites, tunneling=-t, coulomb=U, periodic=False)\n",
    "\n",
    "# Map to QubitOperator using the JW transform\n",
    "jw_hamiltonian = jordan_wigner(fermionic_hamiltonian)\n",
    "\n",
    "# Convert to Scipy sparse matrix\n",
    "hamiltonian_jw_sparse = get_sparse_operator(jw_hamiltonian)\n",
    "\n",
    "# Compute ground energy\n",
    "eigs, _ = linalg.eigsh(hamiltonian_jw_sparse, k=1, which=\"SA\")\n",
    "ground_energy = eigs[0]\n",
    "\n",
    "print(f\"Ground State Energy: {ground_energy}\")\n",
    "print(\"JWT transformed Hamiltonian:\")\n",
    "print(jw_hamiltonian)\n",
    "\n",
    "jw_hamiltonian_qubits = count_qubits(jw_hamiltonian)\n",
    "print(jw_hamiltonian_qubits)"
   ]
  },
  {
   "attachments": {},
   "cell_type": "markdown",
   "metadata": {},
   "source": [
    "# Pennylane Simulation"
   ]
  },
  {
   "cell_type": "code",
   "execution_count": 3,
   "metadata": {},
   "outputs": [],
   "source": [
    "import pennylane as qml\n",
    "from pennylane import numpy as np"
   ]
  },
  {
   "cell_type": "code",
   "execution_count": 375,
   "metadata": {},
   "outputs": [],
   "source": [
    "# Translating the openfermion hamiltonian into a Pennylane qubit operator\n",
    "\n",
    "def get_pennylane_hamiltonian(qubitoperator):\n",
    "\n",
    "    pennylane_hamiltonian = qml.import_operator(qubitoperator)\n",
    "\n",
    "    n_hamiltonian_qubits = len(pennylane_hamiltonian.wires)\n",
    "\n",
    "    return pennylane_hamiltonian, n_hamiltonian_qubits\n",
    "\n",
    "    # print(pennylane_hamiltonian)\n",
    "\n",
    "    # print(qml.eigvals(pennylane_hamiltonian))\n",
    "\n",
    "pennylane_hamiltonian, psi_qubits = get_pennylane_hamiltonian(jw_hamiltonian)\n"
   ]
  },
  {
   "cell_type": "code",
   "execution_count": 376,
   "metadata": {},
   "outputs": [],
   "source": [
    "def add_cnots(cnot_pairs):\n",
    "\n",
    "    for pair in cnot_pairs:\n",
    "\n",
    "        control, target = pair\n",
    "\n",
    "        qml.CNOT([control, target])\n",
    "\n",
    "def change_to_z_basis(pauli_string):\n",
    "\n",
    "    for pauli_tuple in pauli_string:\n",
    "\n",
    "        qubit = pauli_tuple[0]\n",
    "        pauli = pauli_tuple[1]\n",
    "        if pauli == 'X':\n",
    "            qml.Hadamard(qubit)\n",
    "        if pauli == 'Y':\n",
    "            qml.RX(-np.pi/2, qubit)\n",
    "\n",
    "def pauli_time_evolution(pauli_string, coefficient, time, control = -1):\n",
    "\n",
    "    if len(pauli_string) == 0:\n",
    "        return None\n",
    "    \n",
    "    # Getting the CNOT pairs\n",
    "    target_qubit = pauli_string[-1][0]\n",
    "\n",
    "    cnot_pairs = []\n",
    "\n",
    "    for pauli_tuple in pauli_string:\n",
    "\n",
    "        control_qubit = pauli_tuple[0]\n",
    "\n",
    "        if control_qubit != target_qubit:\n",
    "            cnot_pairs.append([control_qubit, target_qubit])\n",
    "\n",
    "\n",
    "    ###### Applying the circuit\n",
    "\n",
    "    # Changing basis\n",
    "    change_to_z_basis(pauli_string)\n",
    "\n",
    "    # qml.Barrier(only_visual=True)\n",
    "\n",
    "    # Adding CNOT gates\n",
    "    if len(cnot_pairs) > 0:\n",
    "        add_cnots(cnot_pairs)\n",
    "\n",
    "    # qml.Barrier(only_visual=True)\n",
    "\n",
    "    # Adding the rotation gate\n",
    "    theta = 2 * coefficient * time \n",
    "\n",
    "    if control != -1:\n",
    "        qml.ctrl(qml.RZ, control)(theta, target_qubit)\n",
    "    else:\n",
    "        qml.RZ(theta, target_qubit)\n",
    "\n",
    "    # qml.Barrier(only_visual=True)\n",
    "\n",
    "    # Undoing CNOT gates\n",
    "    if len(cnot_pairs) > 0:\n",
    "        cnot_pairs.reverse()\n",
    "        add_cnots(cnot_pairs)\n",
    "\n",
    "    # qml.Barrier(only_visual=True)\n",
    "\n",
    "    # Undoing change of basis\n",
    "    change_to_z_basis(pauli_string)\n",
    "\n",
    "    # qml.Barrier(only_visual=True)\n",
    "\n",
    "\n",
    "    "
   ]
  },
  {
   "cell_type": "code",
   "execution_count": 377,
   "metadata": {},
   "outputs": [],
   "source": [
    "\n",
    "def first_order_trotter_decomposition(qubit_hamiltonian, time, trotter_number, control = -1):\n",
    "\n",
    "    dt = time/trotter_number\n",
    "\n",
    "    for i in range(trotter_number): \n",
    "\n",
    "        for pauli_string, coefficient in qubit_hamiltonian.terms.items():\n",
    "\n",
    "            pauli_time_evolution(pauli_string, coefficient, dt, control = control)\n",
    "\n"
   ]
  },
  {
   "cell_type": "code",
   "execution_count": 378,
   "metadata": {},
   "outputs": [],
   "source": [
    "def prepare_hartree_fock_state():\n",
    "\n",
    "    for i in range(occupation_number):\n",
    "        qml.PauliX(i)\n",
    "    \n",
    "\n"
   ]
  },
  {
   "cell_type": "code",
   "execution_count": 379,
   "metadata": {},
   "outputs": [
    {
     "name": "stdout",
     "output_type": "stream",
     "text": [
      "0: ──||──X──||─────||──RX(-1.57)─╭●───────────────────────╭●──RX(-1.57)──H─╭●───────────────────\n",
      "1: ──||──X──||─────||────────────│──╭●─────────────────╭●─│────────────────│──╭●────────────────\n",
      "2: ──||─────||─────||──RX(-1.57)─╰X─╰X─╭RZ(2.50+0.00j)─╰X─╰X──RX(-1.57)──H─╰X─╰X─╭RZ(2.50+0.00j)\n",
      "3: ──||─────||─────||──────────────────│─────────────────────────────────────────│──────────────\n",
      "4: ──||─────||─────||──────────────────│─────────────────────────────────────────│──────────────\n",
      "5: ──||─────||─────||──────────────────│─────────────────────────────────────────│──────────────\n",
      "6: ──||─────||─────||──────────────────│─────────────────────────────────────────│──────────────\n",
      "7: ──||─────||─────||──────────────────│─────────────────────────────────────────│──────────────\n",
      "8: ──||─────||──H──||──────────────────╰●────────────────────────────────────────╰●─────────────\n",
      "\n",
      "─────────────╭●──H─────────────────────────────────────────────────────────────────────────────────\n",
      "──╭●─────────│───RX(-1.57)─╭●───────────────────────╭●──RX(-1.57)──H─╭●───────────────────────╭●──H\n",
      "──╰X─────────╰X──H─────────│──╭●─────────────────╭●─│────────────────│──╭●─────────────────╭●─│────\n",
      "───RX(-1.57)───────────────╰X─╰X─╭RZ(2.50+0.00j)─╰X─╰X──RX(-1.57)──H─╰X─╰X─╭RZ(2.50+0.00j)─╰X─╰X──H\n",
      "─────────────────────────────────│─────────────────────────────────────────│───────────────────────\n",
      "─────────────────────────────────│─────────────────────────────────────────│───────────────────────\n",
      "─────────────────────────────────│─────────────────────────────────────────│───────────────────────\n",
      "─────────────────────────────────│─────────────────────────────────────────│───────────────────────\n",
      "─────────────────────────────────╰●────────────────────────────────────────╰●──────────────────────\n",
      "\n",
      "───────────────────╭RZ(-5.00+0.00j)─╭●─────────────────╭●────────────────────────────────────\n",
      "──╭RZ(-5.00+0.00j)─│────────────────╰X─╭RZ(5.00+0.00j)─╰X────────────────────────────────────\n",
      "──│────────────────│───────────────────│────────────────RX(-1.57)─╭●───────────────────────╭●\n",
      "──│────────────────│───────────────────│──────────────────────────│──╭●─────────────────╭●─│─\n",
      "──│────────────────│───────────────────│────────────────RX(-1.57)─╰X─╰X─╭RZ(2.50+0.00j)─╰X─╰X\n",
      "──│────────────────│───────────────────│────────────────────────────────│────────────────────\n",
      "──│────────────────│───────────────────│────────────────────────────────│────────────────────\n",
      "──│────────────────│───────────────────│────────────────────────────────│────────────────────\n",
      "──╰●───────────────╰●──────────────────╰●───────────────────────────────╰●───────────────────\n",
      "\n",
      "──────────────────────────────────────────────────────────────────────────────────────────\n",
      "──────────────────────────────────────────────────────────────────────────────────────────\n",
      "───RX(-1.57)──H─╭●───────────────────────────────╭●──H────────────────────────────────────\n",
      "────────────────│──╭●─────────────────╭●─────────│───RX(-1.57)─╭●───────────────────────╭●\n",
      "───RX(-1.57)──H─╰X─╰X─╭RZ(2.50+0.00j)─╰X─────────╰X──H─────────│──╭●─────────────────╭●─│─\n",
      "──────────────────────│────────────────RX(-1.57)───────────────╰X─╰X─╭RZ(2.50+0.00j)─╰X─╰X\n",
      "──────────────────────│──────────────────────────────────────────────│────────────────────\n",
      "──────────────────────│──────────────────────────────────────────────│────────────────────\n",
      "──────────────────────╰●─────────────────────────────────────────────╰●───────────────────\n",
      "\n",
      "───────────────────────────────────────────────────────────────────────────────────────────────────\n",
      "───────────────────────────────────────────────────────────────────────────────────────────────────\n",
      "────────────────────────────────────────────────────────────────╭RZ(-5.00+0.00j)─╭●────────────────\n",
      "───RX(-1.57)──H─╭●───────────────────────╭●──H─╭RZ(-5.00+0.00j)─│────────────────╰X─╭RZ(5.00+0.00j)\n",
      "────────────────│──╭●─────────────────╭●─│─────│────────────────│───────────────────│──────────────\n",
      "───RX(-1.57)──H─╰X─╰X─╭RZ(2.50+0.00j)─╰X─╰X──H─│────────────────│───────────────────│──────────────\n",
      "──────────────────────│────────────────────────│────────────────│───────────────────│──────────────\n",
      "──────────────────────│────────────────────────│────────────────│───────────────────│──────────────\n",
      "──────────────────────╰●───────────────────────╰●───────────────╰●──────────────────╰●─────────────\n",
      "\n",
      "──────────────────────────────────────────────────────────────────────────────────────────\n",
      "──────────────────────────────────────────────────────────────────────────────────────────\n",
      "──╭●──────────────────────────────────────────────────────────────────────────────────────\n",
      "──╰X──────────────────────────────────────────────────────────────────────────────────────\n",
      "───RX(-1.57)─╭●───────────────────────╭●──RX(-1.57)──H─╭●───────────────────────────────╭●\n",
      "─────────────│──╭●─────────────────╭●─│────────────────│──╭●─────────────────╭●─────────│─\n",
      "───RX(-1.57)─╰X─╰X─╭RZ(2.50+0.00j)─╰X─╰X──RX(-1.57)──H─╰X─╰X─╭RZ(2.50+0.00j)─╰X─────────╰X\n",
      "───────────────────│─────────────────────────────────────────│────────────────RX(-1.57)───\n",
      "───────────────────╰●────────────────────────────────────────╰●───────────────────────────\n",
      "\n",
      "─────────────────────────────────────────────────────────────────────────────────────\n",
      "─────────────────────────────────────────────────────────────────────────────────────\n",
      "─────────────────────────────────────────────────────────────────────────────────────\n",
      "─────────────────────────────────────────────────────────────────────────────────────\n",
      "───H─────────────────────────────────────────────────────────────────────────────────\n",
      "───RX(-1.57)─╭●───────────────────────╭●──RX(-1.57)──H─╭●───────────────────────╭●──H\n",
      "───H─────────│──╭●─────────────────╭●─│────────────────│──╭●─────────────────╭●─│────\n",
      "─────────────╰X─╰X─╭RZ(2.50+0.00j)─╰X─╰X──RX(-1.57)──H─╰X─╰X─╭RZ(2.50+0.00j)─╰X─╰X──H\n",
      "───────────────────╰●────────────────────────────────────────╰●──────────────────────\n",
      "\n",
      "───────────────────────────────────────────────────────────────────────────────────────────\n",
      "───────────────────────────────────────────────────────────────────────────────────────────\n",
      "───────────────────────────────────────────────────────────────────────────────────────────\n",
      "───────────────────────────────────────────────────────────────────────────────────────────\n",
      "───────────────────╭RZ(-5.00+0.00j)─╭●─────────────────╭●──────────────────────────────────\n",
      "──╭RZ(-5.00+0.00j)─│────────────────╰X─╭RZ(5.00+0.00j)─╰X──────────────────────────────────\n",
      "──│────────────────│───────────────────│────────────────────────────────╭RZ(-5.00+0.00j)─╭●\n",
      "──│────────────────│───────────────────│───────────────╭RZ(-5.00+0.00j)─│────────────────╰X\n",
      "──╰●───────────────╰●──────────────────╰●──────────────╰●───────────────╰●─────────────────\n",
      "\n",
      "──────────────────────||────────┤        \n",
      "──────────────────────||────────┤        \n",
      "──────────────────────||────────┤        \n",
      "──────────────────────||────────┤        \n",
      "──────────────────────||────────┤        \n",
      "──────────────────────||────────┤        \n",
      "──────────────────╭●──||────────┤        \n",
      "──╭RZ(5.00+0.00j)─╰X──||────────┤        \n",
      "──╰●──────────────────||──S†──H─┤  Sample\n"
     ]
    }
   ],
   "source": [
    "n_ancilla_qubits = 1\n",
    "\n",
    "n_circuit_qubits = jw_hamiltonian_qubits + n_ancilla_qubits\n",
    "\n",
    "@qml.qnode(qml.device('default.qubit', wires = n_circuit_qubits, shots = 1))\n",
    "def circuit(time, trotter_number, imaginary):\n",
    "\n",
    "\n",
    "    ancilla_wire = n_circuit_qubits - 1\n",
    "\n",
    "    qml.Barrier(only_visual=True)\n",
    "\n",
    "    prepare_hartree_fock_state()\n",
    "\n",
    "    qml.Barrier(only_visual=True)\n",
    "\n",
    "    qml.Hadamard(ancilla_wire)\n",
    "\n",
    "    qml.Barrier(only_visual=True)\n",
    "\n",
    "    first_order_trotter_decomposition(jw_hamiltonian, time, trotter_number, control=ancilla_wire)\n",
    "\n",
    "    qml.Barrier(only_visual=True)\n",
    "\n",
    "    if imaginary:\n",
    "        qml.adjoint(qml.S(ancilla_wire))\n",
    "\n",
    "    qml.Hadamard(ancilla_wire)\n",
    "\n",
    "    return qml.sample(wires=ancilla_wire)\n",
    "\n",
    "\n",
    "\n",
    "# print(qml.draw(pauli_exponential)(((0, 'X'), (2, 'Z'), (3, 'Y')), 1.25j, 2.3))\n",
    "\n",
    "print(qml.draw(circuit)(1, 1, True))\n"
   ]
  },
  {
   "cell_type": "code",
   "execution_count": 372,
   "metadata": {},
   "outputs": [
    {
     "data": {
      "text/plain": [
       "array(1)"
      ]
     },
     "execution_count": 372,
     "metadata": {},
     "output_type": "execute_result"
    }
   ],
   "source": [
    "circuit(1, 50, False)"
   ]
  },
  {
   "cell_type": "code",
   "execution_count": 334,
   "metadata": {},
   "outputs": [
    {
     "data": {
      "text/plain": [
       "-1"
      ]
     },
     "execution_count": 334,
     "metadata": {},
     "output_type": "execute_result"
    }
   ],
   "source": [
    "def generate_X(j, tau):\n",
    "\n",
    "    trotter_number = 1\n",
    "\n",
    "    total_time = j * tau\n",
    "\n",
    "    circuit_result = circuit(total_time, trotter_number, False)\n",
    "\n",
    "    if circuit_result == 1: \n",
    "        return -1\n",
    "    if circuit_result == 0:\n",
    "        return 1\n",
    "\n",
    "generate_X(1,1)"
   ]
  },
  {
   "cell_type": "code",
   "execution_count": 356,
   "metadata": {},
   "outputs": [
    {
     "data": {
      "text/plain": [
       "-1"
      ]
     },
     "execution_count": 356,
     "metadata": {},
     "output_type": "execute_result"
    }
   ],
   "source": [
    "def generate_Y(j, tau):\n",
    "\n",
    "    trotter_number = 1\n",
    "\n",
    "    total_time = j * tau\n",
    "\n",
    "    circuit_result = circuit(total_time, trotter_number, True)\n",
    "\n",
    "    if circuit_result == 1: \n",
    "        return -1\n",
    "    if circuit_result == 0:\n",
    "        return 1\n",
    "\n",
    "generate_Y(1,1)"
   ]
  },
  {
   "cell_type": "code",
   "execution_count": null,
   "metadata": {},
   "outputs": [],
   "source": [
    "def generate_Z():\n",
    "    "
   ]
  },
  {
   "attachments": {},
   "cell_type": "markdown",
   "metadata": {},
   "source": [
    "# Qulacs Simulation"
   ]
  },
  {
   "cell_type": "code",
   "execution_count": 7,
   "metadata": {},
   "outputs": [
    {
     "name": "stdout",
     "output_type": "stream",
     "text": [
      "Succesfully created Qulacs Hamiltonian from OpenFermion Hamiltonian on 8 qubits\n"
     ]
    }
   ],
   "source": [
    "\"\"\"Convert OpenFermion Hamiltonian to Qulacs Observable\"\"\"\n",
    "\n",
    "from qulacs.observable import create_observable_from_openfermion_text\n",
    "# from openfermion.utils import count_qubits\n",
    "\n",
    "qulacs_hamiltonian = create_observable_from_openfermion_text(str(jw_hamiltonian))\n",
    "\n",
    "n_qubits = qulacs_hamiltonian.get_qubit_count()\n",
    "\n",
    "\n",
    "print(f\"Succesfully created Qulacs Hamiltonian from OpenFermion Hamiltonian on {n_qubits} qubits\")\n",
    "\n"
   ]
  },
  {
   "cell_type": "code",
   "execution_count": 83,
   "metadata": {},
   "outputs": [
    {
     "data": {
      "text/plain": [
       "10.0"
      ]
     },
     "execution_count": 83,
     "metadata": {},
     "output_type": "execute_result"
    }
   ],
   "source": [
    "from qulacs import QuantumState\n",
    "\n",
    "state = QuantumState(n_qubits)\n",
    "# state.set_Haar_random_state()\n",
    "\n",
    "# setting up HF state\n",
    "state.set_computational_basis(0b11000000)\n",
    "\n",
    "qulacs_hamiltonian.get_expectation_value(state)"
   ]
  },
  {
   "cell_type": "code",
   "execution_count": 97,
   "metadata": {},
   "outputs": [
    {
     "name": "stdout",
     "output_type": "stream",
     "text": [
      "*** Quantum Circuit Info ***\n",
      "# of qubit: 9\n",
      "# of step : 21\n",
      "# of gate : 25\n",
      "# of 1 qubit gate: 8\n",
      "# of 2 qubit gate: 4\n",
      "# of 3 qubit gate: 12\n",
      "Clifford  : no\n",
      "Gaussian  : no\n",
      "\n",
      "\n"
     ]
    }
   ],
   "source": [
    "from qulacs import QuantumCircuit\n",
    "\n",
    "circuit = QuantumCircuit(n_qubits+1)\n",
    "\n",
    "# What is the angle?\n",
    "angle = 0.1\n",
    "\n",
    "# time steps\n",
    "t_slice = 1\n",
    "\n",
    "circuit.add_observable_rotation_gate(qulacs_hamiltonian, angle, t_slice)\n",
    "\n",
    "print(circuit)"
   ]
  }
 ],
 "metadata": {
  "kernelspec": {
   "display_name": "venv",
   "language": "python",
   "name": "python3"
  },
  "language_info": {
   "codemirror_mode": {
    "name": "ipython",
    "version": 3
   },
   "file_extension": ".py",
   "mimetype": "text/x-python",
   "name": "python",
   "nbconvert_exporter": "python",
   "pygments_lexer": "ipython3",
   "version": "3.10.9"
  },
  "orig_nbformat": 4
 },
 "nbformat": 4,
 "nbformat_minor": 2
}
