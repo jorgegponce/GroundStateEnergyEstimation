{
 "cells": [
  {
   "cell_type": "markdown",
   "metadata": {},
   "source": [
    "# Reproducing the Results from the Paper: *Heisenberg-Limited Ground-State Energy Estimation for Early Fault-Tolerant Quantum Computers*\n",
    "\n",
    "___\n",
    "\n",
    "## Key Idea:\n",
    "\n",
    "Let $\\rho$ be a good initial guess for the ground state wave function (a wavefunction with a good initial overlap) of a Hamiltonian of interest of interest $H$. Then, one can define a spectral measure of $\\tau H$ associated with $\\rho$ (where $\\tau \\in  \\mathbb{R}$ is chosen to normalize the Hamiltonian), and a CDF associated with it such that\n",
    "\n",
    "$$\n",
    "C(x) = \\sum_{k: \\lambda_k \\leq x} p_k \n",
    "\n",
    "$$\n",
    "\n",
    "where $p_k$ is the overlap between $\\rho$ and the $k^{th}$ eigenvalue $\\lambda_k$ of $H$. Consequently, **if one could calculate $C(x)$, it would be possible to find the ground state eigenvalue $\\lambda_0$ beacuse each jump of this CDF happen at a correspopnding eigenvalue.**\n",
    "\n",
    "\n",
    "**This algorithm consists of stochastically approximating the CDF $\\hat{C}(x)$ by sampling from a quantum circuit that performs the Hadamard test on $e^{-i j \\tau H}$, where $j$ is a random variable.**\n"
   ]
  },
  {
   "cell_type": "markdown",
   "metadata": {},
   "source": [
    "## Description of the Algorithm:\n",
    "\n",
    "To approximate the $\\hat{C}(x)$, they first define an approximate Heaviside function $F(x) = \\sum_{|j|\\leq d} \\hat{F_j}e^{ijx}$ (more details are provided later on in the implementation). Then, after some mathematical treatment, they define\n",
    "\n",
    "$$\n",
    "\\hat{C}(x) = \\sum_{|j|\\leq d} \\hat{F_j}e^{ijx} Tr[\\rho e^{-ij\\tau H}]\n",
    "$$\n",
    "\n",
    "### Hadamard Test (Quantum Subroutine)\n",
    "\n",
    "Now, with the Hadamard test we can use a quantum computer to evaluate $Tr[\\rho e^{-ij\\tau H}]$ as follows:\n",
    "\n",
    "Consider the following circuit\n",
    "\n",
    "![circuit](circuit.png)\n",
    "\n",
    "Let $W = I$ and let $X_j$ be a random variable such that\n",
    "\n",
    "$$\n",
    "X_j =\n",
    "\\begin{cases}\n",
    "1  \\text{ if the ancilla register is 0},\\\\\n",
    "-1 \\text{ if the ancilla register is 1}\\\\\n",
    "\\end{cases}\n",
    "$$\n",
    "\n",
    "Similarly, let $W = S^\\dag$ (where $S$ is known as the phase gate) and let $Y_j$ be a random variable such that\n",
    "\n",
    "$$\n",
    "Y_j =\n",
    "\\begin{cases}\n",
    "1  \\text{ if the ancilla register is 0},\\\\\n",
    "-1 \\text{ if the ancilla register is 1}\\\\\n",
    "\\end{cases}\n",
    "$$\n",
    "\n",
    "\n",
    "It can then be shown that\n",
    "\n",
    "$$ \n",
    "E[X_j] =\\text{Re} \\, Tr[\\rho e^{-ij\\tau H}]\n",
    "$$\n",
    "$$ \n",
    "E[Y_j] = \\text{Im} \\, Tr[\\rho e^{-ij\\tau H}]\n",
    "$$\n",
    "\n",
    "\n",
    "For simplicity, the paper defines a random variable\n",
    "\n",
    "$$\n",
    "Z_j = X_j + i Y_j\n",
    "$$\n",
    "\n",
    "and thus we have \n",
    "\n",
    "$$\n",
    "E[Z_j] = Tr[\\rho e^{-ij\\tau H}]\n",
    "$$\n",
    "\n",
    "\n",
    "\n",
    "\n",
    "### Stochastically evaluating $\\hat{C}(x)$\n",
    "\n",
    "To avoid evaluating all the terms of $\\hat{C}(x)$, they propose a monte carlo inspired stochastic method to aprroximate this sum. \n",
    "\n",
    "Method:\n",
    "\n",
    "Let $J$ be a random variable with support $\\{-d, -d+1, ..., d\\}$ and PMF \n",
    "$$\n",
    "Pr[J=j] = \\frac{|\\hat{F_j}|}{\\sum_{|j|\\leq d} |\\hat{F_j}|}\n",
    "$$\n",
    "\n",
    "They then show that \n",
    "\n",
    "$$\n",
    "E[(X_J + i Y_J)e^{i(\\theta_J + J x)}] = \\frac{\\hat{C}(x)}{\\sum_{|j|\\leq d} |\\hat{F_j}|}\n",
    "$$\n",
    "\n",
    "and thus they define the unbiased estimator\n",
    "\n",
    "$$\n",
    "G(x;J,Z_J) = (\\sum_{|j|\\leq d} |\\hat{F_j}|) * Z e^{i(\\theta_J + J x)}\n",
    "$$\n",
    "\n",
    "Such that \n",
    "\n",
    "$$\n",
    "\\hat{C}(x) = E[G(x;J,Z_J)]\n",
    "$$\n"
   ]
  },
  {
   "cell_type": "markdown",
   "metadata": {},
   "source": [
    "# Implementing the Algorithm\n",
    "\n",
    "1. Generate samples ${J_k}$\n",
    "2. Generate samples ${Z_k}$ from a quantum circuit\n",
    "3. Compute the estimator $G(x:J,Z)$ and estimate $\\hat{C}(x)$"
   ]
  },
  {
   "cell_type": "markdown",
   "metadata": {},
   "source": [
    "## Generating the $J_k$ samples\n"
   ]
  },
  {
   "cell_type": "markdown",
   "metadata": {},
   "source": [
    "To generate the samples of $J_k$, we first need to construct the function $F(x)$. In the paper, they do so in the following way:\n",
    "\n",
    "First, they define the following two functions\n",
    "\n",
    "![mollifier](M_N_definitions.png)\n",
    "\n",
    "and they plot them\n",
    "\n",
    "![M_plots](fig5.png)"
   ]
  },
  {
   "cell_type": "code",
   "execution_count": 1,
   "metadata": {},
   "outputs": [],
   "source": [
    "import numpy as np\n",
    "from matplotlib import pyplot as plt\n",
    "import scipy.integrate as integrate\n",
    "import scipy.special as special\n",
    "from scipy.stats import rv_discrete \n",
    "from numpy import sqrt, sin, cos, pi, log\n",
    "from numba import jit\n",
    "from functools import lru_cache\n",
    "\n"
   ]
  },
  {
   "cell_type": "markdown",
   "metadata": {},
   "source": [
    "### Building $F(x)$"
   ]
  },
  {
   "cell_type": "code",
   "execution_count": 7,
   "metadata": {},
   "outputs": [
    {
     "data": {
      "text/plain": [
       "4.4560732736927395"
      ]
     },
     "execution_count": 7,
     "metadata": {},
     "output_type": "execute_result"
    }
   ],
   "source": [
    "# Implementing N(d,delta)\n",
    "@lru_cache(maxsize=None)\n",
    "def N(d, delta):\n",
    "    \n",
    "    chebyshev_argument = lambda x: 1 + 2*(cos(x)-cos(delta))/(1+cos(delta))\n",
    "\n",
    "    chebyshev = lambda degree,x : special.eval_chebyt(degree, x)\n",
    "\n",
    "    integrand = lambda x: chebyshev(d, chebyshev_argument(x))\n",
    "\n",
    "    integral_value, _ = integrate.quad(integrand, -pi, pi)\n",
    "\n",
    "    return integral_value\n",
    "\n",
    "# @lru_cache(maxsize=None)\n",
    "# def N_trial(d, delta):\n",
    "#     chebyshev_argument = lambda x: 1 + 2 * (np.cos(x) - np.cos(delta)) / (1 + np.cos(delta))\n",
    "#     # Using Gaussian quadrature to accurately integrate Chebyshev polynomials\n",
    "#     nodes, weights = np.polynomial.chebyshev.chebgauss(d + 1)\n",
    "#     chebyshev_values = special.eval_chebyt(d, chebyshev_argument(nodes))\n",
    "#     integral_value = np.sum(chebyshev_values * weights)\n",
    "#     return integral_value\n",
    "\n",
    "\n",
    "# Implementing M(d,delta, x)\n",
    "@lru_cache(maxsize=None)\n",
    "def M(d, delta, x):\n",
    "\n",
    "    chebyshev_argument = lambda n: 1 + 2*(cos(n)-cos(delta))/(1+cos(delta))\n",
    "\n",
    "    chebyshev = lambda degree, m: special.eval_chebyt(degree, m)\n",
    "\n",
    "    return chebyshev(d, chebyshev_argument(x))/N(d, delta)\n",
    "    \n",
    "\n",
    "# Looks good\n",
    "M(20, 0.2, 0)"
   ]
  },
  {
   "cell_type": "code",
   "execution_count": 10,
   "metadata": {},
   "outputs": [
    {
     "name": "stdout",
     "output_type": "stream",
     "text": [
      "CPU times: user 4 µs, sys: 0 ns, total: 4 µs\n",
      "Wall time: 6.91 µs\n"
     ]
    },
    {
     "data": {
      "text/plain": [
       "18.652255449622903"
      ]
     },
     "execution_count": 10,
     "metadata": {},
     "output_type": "execute_result"
    }
   ],
   "source": [
    "%%time\n",
    "\n",
    "M(int(2e4), 2e-4, 0)"
   ]
  },
  {
   "cell_type": "code",
   "execution_count": 12,
   "metadata": {},
   "outputs": [
    {
     "name": "stdout",
     "output_type": "stream",
     "text": [
      "CPU times: user 4 µs, sys: 1e+03 ns, total: 5 µs\n",
      "Wall time: 7.87 µs\n"
     ]
    },
    {
     "data": {
      "text/plain": [
       "1.4640713559427685"
      ]
     },
     "execution_count": 12,
     "metadata": {},
     "output_type": "execute_result"
    }
   ],
   "source": [
    "%%time\n",
    "\n",
    "N(int(2e4), 2e-4)"
   ]
  },
  {
   "cell_type": "code",
   "execution_count": 14,
   "metadata": {},
   "outputs": [
    {
     "data": {
      "image/png": "[encoded data removed]",
      "text/plain": [
       "<Figure size 640x480 with 1 Axes>"
      ]
     },
     "metadata": {},
     "output_type": "display_data"
    }
   ],
   "source": [
    "x = np.linspace(-pi, pi, 500000)\n",
    "\n",
    "y = [M(20,0.2, i) for i in x]\n",
    "plt.plot(x, y, color='blue', label = 'd = 20')\n",
    "\n",
    "y = [M(25,0.2, i) for i in x]\n",
    "plt.plot(x, y, color='red', label = 'd = 25')\n",
    "\n",
    "\n",
    "y = [M(40,0.2, i) for i in x]\n",
    "plt.plot(x, y, color='orange', label = 'd = 40')\n",
    "# plt.plot(x, M(int(2e4),2e-4, x), color='skyblue', label = 'd = 2e4 | 2e-4')\n",
    "\n",
    "plt.legend()\n",
    "\n",
    "plt.show()"
   ]
  },
  {
   "cell_type": "code",
   "execution_count": 166,
   "metadata": {},
   "outputs": [
    {
     "name": "stdout",
     "output_type": "stream",
     "text": [
      "CPU times: user 7 µs, sys: 27 µs, total: 34 µs\n",
      "Wall time: 36 µs\n"
     ]
    },
    {
     "data": {
      "text/plain": [
       "0.4343960174061608"
      ]
     },
     "execution_count": 166,
     "metadata": {},
     "output_type": "execute_result"
    }
   ],
   "source": [
    "%%time\n",
    "\n",
    "M(int(2e4),2e-4, 0.11)"
   ]
  },
  {
   "cell_type": "code",
   "execution_count": 205,
   "metadata": {},
   "outputs": [
    {
     "data": {
      "text/plain": [
       "array([-3.63117290e-01+0.00000000e+00j, -3.85823234e-01-1.21249836e-02j,\n",
       "       -4.97186795e-01-3.12803417e-02j, -1.85682490e+00-1.75521630e-01j,\n",
       "        1.71632862e+00+2.16822728e-01j,  1.38183936e-02+2.18861854e-03j,\n",
       "       -1.12604435e-01-2.14804447e-02j, -1.88520117e-01-4.21392387e-02j,\n",
       "       -2.80429286e-01-7.20020028e-02j, -4.66333046e-01-1.35482274e-01j,\n",
       "       -1.28136430e+00-4.16340498e-01j, -5.17222125e-01-1.86211423e-01j,\n",
       "        4.56287694e-01+1.80657078e-01j,  3.10027854e-01+1.34161032e-01j,\n",
       "        2.68618230e-01+1.26402144e-01j,  2.90630866e-01+1.48083822e-01j,\n",
       "        4.12157676e-01+2.26585600e-01j,  9.83427972e-01+5.81597681e-01j,\n",
       "        3.45157745e-01+2.19043766e-01j, -6.41935708e-01-4.36259057e-01j,\n",
       "       -4.40588905e-01-3.20106577e-01j, -3.89059941e-01-3.01785825e-01j,\n",
       "       -4.03936768e-01-3.34165556e-01j, -5.00154944e-01-4.40945898e-01j,\n",
       "       -8.89048084e-01-8.34871722e-01j, -4.17900917e-01-4.17900918e-01j,\n",
       "        4.78711484e-01+5.09775953e-01j,  2.05395408e-01+2.32975359e-01j,\n",
       "        1.10830255e-01+1.33970765e-01j,  6.55254930e-02+8.44749565e-02j,\n",
       "        4.73081460e-02+6.51140768e-02j,  9.47371725e-02+1.39401516e-01j,\n",
       "       -1.30347463e+00-2.05394736e+00j,  4.16258415e-01+7.03854540e-01j,\n",
       "        8.48343633e-02+1.54313134e-01j,  2.33995274e-02+4.59241584e-02j,\n",
       "       -9.90501775e-03-2.10492341e-02j, -4.70628228e-02-1.08755767e-01j,\n",
       "       -1.44016818e-01-3.63744960e-01j,  3.05086193e+01+8.47409499e+01j,\n",
       "       -2.03927730e-01-6.27625017e-01j, -7.76619598e-03-2.67314218e-02j,\n",
       "        3.70566799e-03+1.44326240e-02j,  4.27409698e-03+1.91212109e-02j,\n",
       "        4.85525165e-03+2.54521205e-02j,  1.24945180e-02+7.88872819e-02j,\n",
       "        1.57210517e-01+1.24444938e+00j,  1.13823237e-01+1.20412408e+00j,\n",
       "        1.07535285e-02+1.70922441e-01j,  1.68534888e-03+5.36286719e-02j,\n",
       "       -7.99484784e-12+6.93889390e-17j,  1.68534888e-03-5.36286719e-02j,\n",
       "        1.07535285e-02-1.70922441e-01j,  1.13823237e-01-1.20412408e+00j,\n",
       "        1.57210517e-01-1.24444938e+00j,  1.24945180e-02-7.88872819e-02j,\n",
       "        4.85525165e-03-2.54521205e-02j,  4.27409698e-03-1.91212109e-02j,\n",
       "        3.70566799e-03-1.44326240e-02j, -7.76619598e-03+2.67314218e-02j,\n",
       "       -2.03927730e-01+6.27625017e-01j,  3.05086193e+01-8.47409499e+01j,\n",
       "       -1.44016818e-01+3.63744960e-01j, -4.70628228e-02+1.08755767e-01j,\n",
       "       -9.90501775e-03+2.10492341e-02j,  2.33995274e-02-4.59241584e-02j,\n",
       "        8.48343633e-02-1.54313134e-01j,  4.16258415e-01-7.03854540e-01j,\n",
       "       -1.30347463e+00+2.05394736e+00j,  9.47371725e-02-1.39401516e-01j,\n",
       "        4.73081460e-02-6.51140768e-02j,  6.55254930e-02-8.44749565e-02j,\n",
       "        1.10830255e-01-1.33970765e-01j,  2.05395408e-01-2.32975359e-01j,\n",
       "        4.78711484e-01-5.09775953e-01j, -4.17900917e-01+4.17900918e-01j,\n",
       "       -8.89048084e-01+8.34871722e-01j, -5.00154944e-01+4.40945898e-01j,\n",
       "       -4.03936768e-01+3.34165556e-01j, -3.89059941e-01+3.01785825e-01j,\n",
       "       -4.40588905e-01+3.20106577e-01j, -6.41935708e-01+4.36259057e-01j,\n",
       "        3.45157745e-01-2.19043766e-01j,  9.83427972e-01-5.81597681e-01j,\n",
       "        4.12157676e-01-2.26585600e-01j,  2.90630866e-01-1.48083822e-01j,\n",
       "        2.68618230e-01-1.26402144e-01j,  3.10027854e-01-1.34161032e-01j,\n",
       "        4.56287694e-01-1.80657078e-01j, -5.17222125e-01+1.86211423e-01j,\n",
       "       -1.28136430e+00+4.16340498e-01j, -4.66333046e-01+1.35482274e-01j,\n",
       "       -2.80429286e-01+7.20020028e-02j, -1.88520117e-01+4.21392387e-02j,\n",
       "       -1.12604435e-01+2.14804447e-02j,  1.38183936e-02-2.18861854e-03j,\n",
       "        1.71632862e+00-2.16822728e-01j, -1.85682490e+00+1.75521630e-01j,\n",
       "       -4.97186795e-01+3.12803417e-02j, -3.85823234e-01+1.21249836e-02j])"
      ]
     },
     "execution_count": 205,
     "metadata": {},
     "output_type": "execute_result"
    }
   ],
   "source": [
    "def M_fourier_fft(d, delta, k):\n",
    "\n",
    "    k_discretized = np.linspace(-d, d, 100)\n",
    "\n",
    "    M_discretized = M(d, delta, k_discretized)\n",
    "\n",
    "    M_fourier_coefficients = np.fft.fft(M_discretized)\n",
    "\n",
    "    return M_fourier_coefficients\n",
    "\n",
    "\n",
    "M_fourier_fft(200, 0.02, 10)"
   ]
  },
  {
   "cell_type": "code",
   "execution_count": 167,
   "metadata": {},
   "outputs": [],
   "source": [
    "@lru_cache(maxsize=None)\n",
    "def M_fourier(d, delta, k):\n",
    "    integrand = lambda x: M(d, delta, x) * np.exp(-1j * k * x)\n",
    "\n",
    "    integral_value, _ = integrate.quad(integrand, -pi, pi)\n",
    "\n",
    "    return integral_value/sqrt(2*pi)\n",
    "    "
   ]
  },
  {
   "cell_type": "code",
   "execution_count": 199,
   "metadata": {},
   "outputs": [
    {
     "name": "stdout",
     "output_type": "stream",
     "text": [
      "CPU times: user 6 µs, sys: 6 µs, total: 12 µs\n",
      "Wall time: 14.8 µs\n"
     ]
    },
    {
     "data": {
      "text/plain": [
       "0.3913372555371351"
      ]
     },
     "execution_count": 199,
     "metadata": {},
     "output_type": "execute_result"
    }
   ],
   "source": [
    "%%time\n",
    "\n",
    "M_fourier(int(2e4),2e-4, 0.11)"
   ]
  },
  {
   "cell_type": "code",
   "execution_count": 177,
   "metadata": {},
   "outputs": [],
   "source": [
    "def H_fourier(k):\n",
    "    if k%2 == 0:\n",
    "        return 0\n",
    "    else:\n",
    "        return 2/(1j * k * sqrt(2*pi))\n",
    "\n",
    "def F_fourier(d, delta, k):\n",
    "    return sqrt(2*pi) * M_fourier(d, delta, k) * H_fourier(k)"
   ]
  },
  {
   "cell_type": "code",
   "execution_count": 348,
   "metadata": {},
   "outputs": [
    {
     "data": {
      "text/plain": [
       "0.00711054233863192j"
      ]
     },
     "execution_count": 348,
     "metadata": {},
     "output_type": "execute_result"
    }
   ],
   "source": [
    "F_fourier(20000, 0.0002, 1)\n"
   ]
  },
  {
   "cell_type": "code",
   "execution_count": 203,
   "metadata": {},
   "outputs": [
    {
     "data": {
      "text/plain": [
       "[<matplotlib.lines.Line2D at 0x178143a60>]"
      ]
     },
     "execution_count": 203,
     "metadata": {},
     "output_type": "execute_result"
    },
    {
     "data": {
      "image/png": "[encoded data removed]",
      "text/plain": [
       "<Figure size 640x480 with 1 Axes>"
      ]
     },
     "metadata": {},
     "output_type": "display_data"
    }
   ],
   "source": [
    "\n",
    "y = [F_fourier(20000, 0.0002, i) for i in range(10)]\n",
    "plt.plot(np.abs(y), color='blue', label = 'd = 20')"
   ]
  },
  {
   "cell_type": "code",
   "execution_count": 225,
   "metadata": {},
   "outputs": [
    {
     "data": {
      "text/plain": [
       "1j"
      ]
     },
     "execution_count": 225,
     "metadata": {},
     "output_type": "execute_result"
    }
   ],
   "source": [
    "# Calculating \\theta_j\n",
    "\n",
    "def get_theta(d, delta, k):\n",
    "\n",
    "    F_k = F_fourier(d, delta, k)\n",
    "\n",
    "    if F_k != 0:\n",
    "        return F_k/np.abs(F_k)\n",
    "\n",
    "    else:\n",
    "        return 0\n",
    "    \n",
    "    return F_fourier(d, delta, k)/np.abs(F_fourier(d, delta, k))\n",
    "    # return -1j * log(F_fourier(d, delta, k)/np.abs(F_fourier(d, delta, k)))\n",
    "\n",
    "\n",
    "get_theta(2000, 0.002, 143)\n"
   ]
  },
  {
   "cell_type": "code",
   "execution_count": 228,
   "metadata": {},
   "outputs": [
    {
     "name": "stderr",
     "output_type": "stream",
     "text": [
      "/Users/jorgegarciaponce/Research/Aspuru/Ground State Energy Estimation/venv/lib/python3.10/site-packages/scipy/integrate/_quadpack_py.py:575: ComplexWarning: Casting complex values to real discards the imaginary part\n",
      "  return _quadpack._qagse(func,a,b,args,full_output,epsabs,epsrel,limit)\n",
      "/var/folders/2q/r_plhm951s93s5nlm_f8ymjr0000gn/T/ipykernel_1121/3294601285.py:5: IntegrationWarning: The maximum number of subdivisions (50) has been achieved.\n",
      "  If increasing the limit yields no improvement it is advised to analyze \n",
      "  the integrand in order to determine the difficulties.  If the position of a \n",
      "  local difficulty can be determined (singularity, discontinuity) one will \n",
      "  probably gain from splitting up the interval and calling the integrator \n",
      "  on the subranges.  Perhaps a special-purpose integrator should be used.\n",
      "  integral_value, _ = integrate.quad(integrand, -pi, pi)\n",
      "/var/folders/2q/r_plhm951s93s5nlm_f8ymjr0000gn/T/ipykernel_1121/3294601285.py:5: IntegrationWarning: The integral is probably divergent, or slowly convergent.\n",
      "  integral_value, _ = integrate.quad(integrand, -pi, pi)\n"
     ]
    },
    {
     "data": {
      "text/plain": [
       "[<matplotlib.lines.Line2D at 0x10805db70>]"
      ]
     },
     "execution_count": 228,
     "metadata": {},
     "output_type": "execute_result"
    },
    {
     "data": {
      "image/png": "[encoded data removed]",
      "text/plain": [
       "<Figure size 640x480 with 1 Axes>"
      ]
     },
     "metadata": {},
     "output_type": "display_data"
    }
   ],
   "source": [
    "\n",
    "y = [get_theta(20000, 0.0002, i) for i in range(2000)]\n",
    "plt.plot(np.imag(y), color='blue', label = 'd = 20')"
   ]
  },
  {
   "cell_type": "markdown",
   "metadata": {},
   "source": [
    "### Sampling $J_k$"
   ]
  },
  {
   "cell_type": "code",
   "execution_count": 230,
   "metadata": {},
   "outputs": [],
   "source": [
    "@lru_cache(maxsize=None)\n",
    "def calculate_normalization_factor(d, delta):\n",
    "\n",
    "    normalization_factor = 0\n",
    "\n",
    "    for i in range(-d, d+1):\n",
    "\n",
    "        normalization_factor += np.abs(F_fourier(d, delta, i))\n",
    "    \n",
    "    return normalization_factor\n"
   ]
  },
  {
   "cell_type": "code",
   "execution_count": 231,
   "metadata": {},
   "outputs": [],
   "source": [
    "@lru_cache(maxsize=None)\n",
    "def J_pmf(j, d, delta):\n",
    "\n",
    "    normalization_factor = calculate_normalization_factor(d, delta)\n",
    "\n",
    "    return  np.abs(F_fourier(d, delta, j))/normalization_factor\n",
    "\n"
   ]
  },
  {
   "cell_type": "code",
   "execution_count": 239,
   "metadata": {},
   "outputs": [
    {
     "name": "stderr",
     "output_type": "stream",
     "text": [
      "/Users/jorgegarciaponce/Research/Aspuru/Ground State Energy Estimation/venv/lib/python3.10/site-packages/scipy/integrate/_quadpack_py.py:575: ComplexWarning: Casting complex values to real discards the imaginary part\n",
      "  return _quadpack._qagse(func,a,b,args,full_output,epsabs,epsrel,limit)\n",
      "/var/folders/2q/r_plhm951s93s5nlm_f8ymjr0000gn/T/ipykernel_1121/3294601285.py:5: IntegrationWarning: The maximum number of subdivisions (50) has been achieved.\n",
      "  If increasing the limit yields no improvement it is advised to analyze \n",
      "  the integrand in order to determine the difficulties.  If the position of a \n",
      "  local difficulty can be determined (singularity, discontinuity) one will \n",
      "  probably gain from splitting up the interval and calling the integrator \n",
      "  on the subranges.  Perhaps a special-purpose integrator should be used.\n",
      "  integral_value, _ = integrate.quad(integrand, -pi, pi)\n",
      "/var/folders/2q/r_plhm951s93s5nlm_f8ymjr0000gn/T/ipykernel_1121/3294601285.py:5: IntegrationWarning: The integral is probably divergent, or slowly convergent.\n",
      "  integral_value, _ = integrate.quad(integrand, -pi, pi)\n"
     ]
    },
    {
     "name": "stdout",
     "output_type": "stream",
     "text": [
      "0.9999999999999989\n"
     ]
    }
   ],
   "source": [
    "# Sanity check to make sure it is a valid pmf\n",
    "\n",
    "total_p_sum = 0\n",
    "\n",
    "for i in range(-int(2e3),int(2e3)+1):\n",
    "    total_p_sum += J_pmf(i,int(2e3),2e-3)\n",
    "\n",
    "print(total_p_sum)"
   ]
  },
  {
   "cell_type": "code",
   "execution_count": 240,
   "metadata": {},
   "outputs": [],
   "source": [
    "def get_J_distribution(d, delta):\n",
    "\n",
    "    support = range(-d, d+1)\n",
    "\n",
    "    probabilities = [J_pmf(i, d, delta) for i in support]\n",
    "\n",
    "    custom_distribution = rv_discrete(name = 'custom', values=(np.array(support), np.array(probabilities)))\n",
    "\n",
    "    return custom_distribution\n"
   ]
  },
  {
   "cell_type": "code",
   "execution_count": 244,
   "metadata": {},
   "outputs": [
    {
     "data": {
      "image/png": "[encoded data removed]",
      "text/plain": [
       "<Figure size 640x480 with 1 Axes>"
      ]
     },
     "metadata": {},
     "output_type": "display_data"
    }
   ],
   "source": [
    "# Plotting the PMF\n",
    "J_distribution = get_J_distribution(int(2e3), 2e-3)\n",
    "\n",
    "fig, ax = plt.subplots(1, 1)\n",
    "xk = [i for i in range(-int(2e3),int(2e3)+1)]\n",
    "ax.plot(xk, J_distribution.pmf(xk), 'ro', ms=10, mec='r')\n",
    "ax.vlines(xk, 0, J_distribution.pmf(xk), colors='r', lw=4)\n",
    "plt.show()"
   ]
  },
  {
   "cell_type": "code",
   "execution_count": 249,
   "metadata": {},
   "outputs": [
    {
     "data": {
      "text/plain": [
       "0.12767549059424602"
      ]
     },
     "execution_count": 249,
     "metadata": {},
     "output_type": "execute_result"
    }
   ],
   "source": [
    "# Hope this isn't wrong\n",
    "\n",
    "J_pmf(1,int(2e3), 2e-3)"
   ]
  },
  {
   "cell_type": "code",
   "execution_count": 251,
   "metadata": {},
   "outputs": [
    {
     "data": {
      "text/plain": [
       "tensor([  367,    -1,     1,     1,    35,   301,  -329,   571,    -1,\n",
       "           -1,  1871,   109, -1889,   -13,  -389,   -13,     9,    -1,\n",
       "         1047,   -27,     1,  -183,     1,    -1,  -239,     1, -1879,\n",
       "            1,    -3,   101,    29,    13,   -23, -1793,  -379,     1,\n",
       "            1,   -85,    57,    -1,   -77,   -33,   383,     1,   101,\n",
       "          533,   -29,  -107,    43,     1,     1,    19,    11,     9,\n",
       "            1,     3,     1,  1365,    -1,   -45,   -19,   -63,    -3,\n",
       "            1,  -105,  -193,     1,     7,  -351,     1,   163,  -851,\n",
       "            7,   -13,    -1,   449,    -7,  1091,     1,  -531,  -915,\n",
       "            7,  1541,  1769,    97, -1723,   997,     7,    -1, -1755,\n",
       "          295,  -243,   -39,     9,   121,   145,     1,   -27,     3,\n",
       "           -1], requires_grad=True)"
      ]
     },
     "execution_count": 251,
     "metadata": {},
     "output_type": "execute_result"
    }
   ],
   "source": [
    "# Sample from the distribution\n",
    "num_samples = 100\n",
    "samples = J_distribution.rvs(size=num_samples)\n",
    "\n",
    "samples"
   ]
  },
  {
   "cell_type": "markdown",
   "metadata": {},
   "source": [
    "## Sampling $Z_k$ from the Quantum Circuit"
   ]
  },
  {
   "cell_type": "markdown",
   "metadata": {},
   "source": [
    "Recall the circuit and the random variable definitions:\n",
    "\n",
    "![circuit](circuit.png)\n",
    "\n",
    "Let $W = I$ and let $X_j$ be a random variable such that\n",
    "\n",
    "$$\n",
    "X_j =\n",
    "\\begin{cases}\n",
    "1  \\text{ if the ancilla register is 0},\\\\\n",
    "-1 \\text{ if the ancilla register is 1}\\\\\n",
    "\\end{cases}\n",
    "$$\n",
    "\n",
    "Similarly, let $W = S^\\dag$ (where $S$ is known as the phase gate) and let $Y_j$ be a random variable such that\n",
    "\n",
    "$$\n",
    "Y_j =\n",
    "\\begin{cases}\n",
    "1  \\text{ if the ancilla register is 0},\\\\\n",
    "-1 \\text{ if the ancilla register is 1}\\\\\n",
    "\\end{cases}\n",
    "$$"
   ]
  },
  {
   "cell_type": "markdown",
   "metadata": {},
   "source": [
    "### Fermi Hubbard Hamiltonian (Open Fermion)"
   ]
  },
  {
   "cell_type": "code",
   "execution_count": 252,
   "metadata": {},
   "outputs": [],
   "source": [
    "# from scipy import sparse\n",
    "from scipy.sparse import linalg\n",
    "from openfermion import fermi_hubbard, jordan_wigner, get_sparse_operator\n",
    "from openfermion.utils import count_qubits"
   ]
  },
  {
   "cell_type": "code",
   "execution_count": 253,
   "metadata": {},
   "outputs": [
    {
     "name": "stdout",
     "output_type": "stream",
     "text": [
      "Ground State Energy: -6.562355678777147\n",
      "JWT transformed Hamiltonian:\n",
      "(10+0j) [] +\n",
      "(1.25+0j) [X0 Z1 X2] +\n",
      "(1.25+0j) [Y0 Z1 Y2] +\n",
      "(-2.5+0j) [Z0] +\n",
      "(2.5+0j) [Z0 Z1] +\n",
      "(1.25+0j) [X1 Z2 X3] +\n",
      "(1.25+0j) [Y1 Z2 Y3] +\n",
      "(-2.5+0j) [Z1] +\n",
      "(1.25+0j) [X2 Z3 X4] +\n",
      "(1.25+0j) [Y2 Z3 Y4] +\n",
      "(-2.5+0j) [Z2] +\n",
      "(2.5+0j) [Z2 Z3] +\n",
      "(1.25+0j) [X3 Z4 X5] +\n",
      "(1.25+0j) [Y3 Z4 Y5] +\n",
      "(-2.5+0j) [Z3] +\n",
      "(1.25+0j) [X4 Z5 X6] +\n",
      "(1.25+0j) [Y4 Z5 Y6] +\n",
      "(-2.5+0j) [Z4] +\n",
      "(2.5+0j) [Z4 Z5] +\n",
      "(1.25+0j) [X5 Z6 X7] +\n",
      "(1.25+0j) [Y5 Z6 Y7] +\n",
      "(-2.5+0j) [Z5] +\n",
      "(-2.5+0j) [Z6] +\n",
      "(2.5+0j) [Z6 Z7] +\n",
      "(-2.5+0j) [Z7]\n",
      "8\n",
      "[40.]\n"
     ]
    }
   ],
   "source": [
    "\"\"\"Define the Hamiltonian.\"\"\"\n",
    "# Parameters from the paper\n",
    "\n",
    "nsites = 4\n",
    "occupation_number = 2\n",
    "U = 10.0\n",
    "\n",
    "filled_sites = int(nsites/2) # Half filling\n",
    "\n",
    "# Hopping Integral\n",
    "\n",
    "# In the paper U/t = 4\n",
    "t = U / 4\n",
    "\n",
    "# Is the sign of the tunneling right?\n",
    "fermionic_hamiltonian = fermi_hubbard(1, nsites, tunneling=-t, coulomb=U, periodic=False)\n",
    "\n",
    "# Map to QubitOperator using the JW transform\n",
    "jw_hamiltonian = jordan_wigner(fermionic_hamiltonian)\n",
    "\n",
    "# Convert to Scipy sparse matrix\n",
    "hamiltonian_jw_sparse = get_sparse_operator(jw_hamiltonian)\n",
    "\n",
    "# Compute ground energy\n",
    "eigs, _ = linalg.eigsh(hamiltonian_jw_sparse, k=1, which=\"SA\")\n",
    "ground_energy = eigs[0]\n",
    "\n",
    "print(f\"Ground State Energy: {ground_energy}\")\n",
    "print(\"JWT transformed Hamiltonian:\")\n",
    "print(jw_hamiltonian)\n",
    "\n",
    "jw_hamiltonian_qubits = count_qubits(jw_hamiltonian)\n",
    "print(jw_hamiltonian_qubits)\n",
    "\n",
    "# compute largest eigenvalue\n",
    "hamiltonian_jw_sparse\n",
    "\n",
    "max_hamiltonian_eigenvalue, _ = linalg.eigsh(hamiltonian_jw_sparse, k=1, which=\"LM\")\n",
    "print(max_hamiltonian_eigenvalue)\n",
    "\n"
   ]
  },
  {
   "cell_type": "markdown",
   "metadata": {},
   "source": [
    "### Building the Circuit (Pennylane)"
   ]
  },
  {
   "cell_type": "code",
   "execution_count": 254,
   "metadata": {},
   "outputs": [],
   "source": [
    "import pennylane as qml\n",
    "from pennylane import numpy as np"
   ]
  },
  {
   "cell_type": "code",
   "execution_count": 255,
   "metadata": {},
   "outputs": [],
   "source": [
    "def add_cnots(cnot_pairs):\n",
    "\n",
    "    for pair in cnot_pairs:\n",
    "\n",
    "        control, target = pair\n",
    "\n",
    "        qml.CNOT([control, target])\n",
    "\n",
    "def change_to_z_basis(pauli_string):\n",
    "\n",
    "    for pauli_tuple in pauli_string:\n",
    "\n",
    "        qubit = pauli_tuple[0]\n",
    "        pauli = pauli_tuple[1]\n",
    "        if pauli == 'X':\n",
    "            qml.Hadamard(qubit)\n",
    "        if pauli == 'Y':\n",
    "            qml.RX(-np.pi/2, qubit)\n",
    "\n",
    "def pauli_time_evolution(pauli_string, coefficient, time, control = -1):\n",
    "\n",
    "    if len(pauli_string) == 0:\n",
    "        return None\n",
    "    \n",
    "    # Getting the CNOT pairs\n",
    "    target_qubit = pauli_string[-1][0]\n",
    "\n",
    "    cnot_pairs = []\n",
    "\n",
    "    for pauli_tuple in pauli_string:\n",
    "\n",
    "        control_qubit = pauli_tuple[0]\n",
    "\n",
    "        if control_qubit != target_qubit:\n",
    "            cnot_pairs.append([control_qubit, target_qubit])\n",
    "\n",
    "\n",
    "    ###### Applying the circuit\n",
    "\n",
    "    # Changing basis\n",
    "    change_to_z_basis(pauli_string)\n",
    "\n",
    "    # qml.Barrier(only_visual=True)\n",
    "\n",
    "    # Adding CNOT gates\n",
    "    if len(cnot_pairs) > 0:\n",
    "        add_cnots(cnot_pairs)\n",
    "\n",
    "    # qml.Barrier(only_visual=True)\n",
    "\n",
    "    # Adding the rotation gate\n",
    "    theta = 2 * coefficient * time \n",
    "\n",
    "    if control != -1:\n",
    "        qml.ctrl(qml.RZ, control)(theta, target_qubit)\n",
    "    else:\n",
    "        qml.RZ(theta, target_qubit)\n",
    "\n",
    "    # qml.Barrier(only_visual=True)\n",
    "\n",
    "    # Undoing CNOT gates\n",
    "    if len(cnot_pairs) > 0:\n",
    "        cnot_pairs.reverse()\n",
    "        add_cnots(cnot_pairs)\n",
    "\n",
    "    # qml.Barrier(only_visual=True)\n",
    "\n",
    "    # Undoing change of basis\n",
    "    change_to_z_basis(pauli_string)\n",
    "\n",
    "    # qml.Barrier(only_visual=True)\n",
    "\n"
   ]
  },
  {
   "cell_type": "code",
   "execution_count": 256,
   "metadata": {},
   "outputs": [],
   "source": [
    "def first_order_trotter_decomposition(qubit_hamiltonian, time, trotter_number, control = -1):\n",
    "\n",
    "    dt = time/trotter_number\n",
    "\n",
    "    for i in range(trotter_number): \n",
    "\n",
    "        for pauli_string, coefficient in qubit_hamiltonian.terms.items():\n",
    "\n",
    "            pauli_time_evolution(pauli_string, coefficient, dt, control = control)\n",
    "\n"
   ]
  },
  {
   "cell_type": "code",
   "execution_count": 257,
   "metadata": {},
   "outputs": [],
   "source": [
    "def prepare_hartree_fock_state():\n",
    "\n",
    "    for i in range(occupation_number):\n",
    "        qml.PauliX(i)\n"
   ]
  },
  {
   "cell_type": "code",
   "execution_count": 258,
   "metadata": {},
   "outputs": [
    {
     "name": "stdout",
     "output_type": "stream",
     "text": [
      "0: ──||──X──||─────||──RX(-1.57)─╭●───────────────────────╭●──RX(-1.57)──H─╭●───────────────────\n",
      "1: ──||──X──||─────||────────────│──╭●─────────────────╭●─│────────────────│──╭●────────────────\n",
      "2: ──||─────||─────||──RX(-1.57)─╰X─╰X─╭RZ(2.50+0.00j)─╰X─╰X──RX(-1.57)──H─╰X─╰X─╭RZ(2.50+0.00j)\n",
      "3: ──||─────||─────||──────────────────│─────────────────────────────────────────│──────────────\n",
      "4: ──||─────||─────||──────────────────│─────────────────────────────────────────│──────────────\n",
      "5: ──||─────||─────||──────────────────│─────────────────────────────────────────│──────────────\n",
      "6: ──||─────||─────||──────────────────│─────────────────────────────────────────│──────────────\n",
      "7: ──||─────||─────||──────────────────│─────────────────────────────────────────│──────────────\n",
      "8: ──||─────||──H──||──────────────────╰●────────────────────────────────────────╰●─────────────\n",
      "\n",
      "─────────────╭●──H─────────────────────────────────────────────────────────────────────────────────\n",
      "──╭●─────────│───RX(-1.57)─╭●───────────────────────╭●──RX(-1.57)──H─╭●───────────────────────╭●──H\n",
      "──╰X─────────╰X──H─────────│──╭●─────────────────╭●─│────────────────│──╭●─────────────────╭●─│────\n",
      "───RX(-1.57)───────────────╰X─╰X─╭RZ(2.50+0.00j)─╰X─╰X──RX(-1.57)──H─╰X─╰X─╭RZ(2.50+0.00j)─╰X─╰X──H\n",
      "─────────────────────────────────│─────────────────────────────────────────│───────────────────────\n",
      "─────────────────────────────────│─────────────────────────────────────────│───────────────────────\n",
      "─────────────────────────────────│─────────────────────────────────────────│───────────────────────\n",
      "─────────────────────────────────│─────────────────────────────────────────│───────────────────────\n",
      "─────────────────────────────────╰●────────────────────────────────────────╰●──────────────────────\n",
      "\n",
      "───────────────────╭RZ(-5.00+0.00j)─╭●─────────────────╭●────────────────────────────────────\n",
      "──╭RZ(-5.00+0.00j)─│────────────────╰X─╭RZ(5.00+0.00j)─╰X────────────────────────────────────\n",
      "──│────────────────│───────────────────│────────────────RX(-1.57)─╭●───────────────────────╭●\n",
      "──│────────────────│───────────────────│──────────────────────────│──╭●─────────────────╭●─│─\n",
      "──│────────────────│───────────────────│────────────────RX(-1.57)─╰X─╰X─╭RZ(2.50+0.00j)─╰X─╰X\n",
      "──│────────────────│───────────────────│────────────────────────────────│────────────────────\n",
      "──│────────────────│───────────────────│────────────────────────────────│────────────────────\n",
      "──│────────────────│───────────────────│────────────────────────────────│────────────────────\n",
      "──╰●───────────────╰●──────────────────╰●───────────────────────────────╰●───────────────────\n",
      "\n",
      "──────────────────────────────────────────────────────────────────────────────────────────\n",
      "──────────────────────────────────────────────────────────────────────────────────────────\n",
      "───RX(-1.57)──H─╭●───────────────────────────────╭●──H────────────────────────────────────\n",
      "────────────────│──╭●─────────────────╭●─────────│───RX(-1.57)─╭●───────────────────────╭●\n",
      "───RX(-1.57)──H─╰X─╰X─╭RZ(2.50+0.00j)─╰X─────────╰X──H─────────│──╭●─────────────────╭●─│─\n",
      "──────────────────────│────────────────RX(-1.57)───────────────╰X─╰X─╭RZ(2.50+0.00j)─╰X─╰X\n",
      "──────────────────────│──────────────────────────────────────────────│────────────────────\n",
      "──────────────────────│──────────────────────────────────────────────│────────────────────\n",
      "──────────────────────╰●─────────────────────────────────────────────╰●───────────────────\n",
      "\n",
      "───────────────────────────────────────────────────────────────────────────────────────────────────\n",
      "───────────────────────────────────────────────────────────────────────────────────────────────────\n",
      "────────────────────────────────────────────────────────────────╭RZ(-5.00+0.00j)─╭●────────────────\n",
      "───RX(-1.57)──H─╭●───────────────────────╭●──H─╭RZ(-5.00+0.00j)─│────────────────╰X─╭RZ(5.00+0.00j)\n",
      "────────────────│──╭●─────────────────╭●─│─────│────────────────│───────────────────│──────────────\n",
      "───RX(-1.57)──H─╰X─╰X─╭RZ(2.50+0.00j)─╰X─╰X──H─│────────────────│───────────────────│──────────────\n",
      "──────────────────────│────────────────────────│────────────────│───────────────────│──────────────\n",
      "──────────────────────│────────────────────────│────────────────│───────────────────│──────────────\n",
      "──────────────────────╰●───────────────────────╰●───────────────╰●──────────────────╰●─────────────\n",
      "\n",
      "──────────────────────────────────────────────────────────────────────────────────────────\n",
      "──────────────────────────────────────────────────────────────────────────────────────────\n",
      "──╭●──────────────────────────────────────────────────────────────────────────────────────\n",
      "──╰X──────────────────────────────────────────────────────────────────────────────────────\n",
      "───RX(-1.57)─╭●───────────────────────╭●──RX(-1.57)──H─╭●───────────────────────────────╭●\n",
      "─────────────│──╭●─────────────────╭●─│────────────────│──╭●─────────────────╭●─────────│─\n",
      "───RX(-1.57)─╰X─╰X─╭RZ(2.50+0.00j)─╰X─╰X──RX(-1.57)──H─╰X─╰X─╭RZ(2.50+0.00j)─╰X─────────╰X\n",
      "───────────────────│─────────────────────────────────────────│────────────────RX(-1.57)───\n",
      "───────────────────╰●────────────────────────────────────────╰●───────────────────────────\n",
      "\n",
      "─────────────────────────────────────────────────────────────────────────────────────\n",
      "─────────────────────────────────────────────────────────────────────────────────────\n",
      "─────────────────────────────────────────────────────────────────────────────────────\n",
      "─────────────────────────────────────────────────────────────────────────────────────\n",
      "───H─────────────────────────────────────────────────────────────────────────────────\n",
      "───RX(-1.57)─╭●───────────────────────╭●──RX(-1.57)──H─╭●───────────────────────╭●──H\n",
      "───H─────────│──╭●─────────────────╭●─│────────────────│──╭●─────────────────╭●─│────\n",
      "─────────────╰X─╰X─╭RZ(2.50+0.00j)─╰X─╰X──RX(-1.57)──H─╰X─╰X─╭RZ(2.50+0.00j)─╰X─╰X──H\n",
      "───────────────────╰●────────────────────────────────────────╰●──────────────────────\n",
      "\n",
      "───────────────────────────────────────────────────────────────────────────────────────────\n",
      "───────────────────────────────────────────────────────────────────────────────────────────\n",
      "───────────────────────────────────────────────────────────────────────────────────────────\n",
      "───────────────────────────────────────────────────────────────────────────────────────────\n",
      "───────────────────╭RZ(-5.00+0.00j)─╭●─────────────────╭●──────────────────────────────────\n",
      "──╭RZ(-5.00+0.00j)─│────────────────╰X─╭RZ(5.00+0.00j)─╰X──────────────────────────────────\n",
      "──│────────────────│───────────────────│────────────────────────────────╭RZ(-5.00+0.00j)─╭●\n",
      "──│────────────────│───────────────────│───────────────╭RZ(-5.00+0.00j)─│────────────────╰X\n",
      "──╰●───────────────╰●──────────────────╰●──────────────╰●───────────────╰●─────────────────\n",
      "\n",
      "──────────────────────||────────┤        \n",
      "──────────────────────||────────┤        \n",
      "──────────────────────||────────┤        \n",
      "──────────────────────||────────┤        \n",
      "──────────────────────||────────┤        \n",
      "──────────────────────||────────┤        \n",
      "──────────────────╭●──||────────┤        \n",
      "──╭RZ(5.00+0.00j)─╰X──||────────┤        \n",
      "──╰●──────────────────||──S†──H─┤  Sample\n"
     ]
    }
   ],
   "source": [
    "n_ancilla_qubits = 1\n",
    "\n",
    "n_circuit_qubits = jw_hamiltonian_qubits + n_ancilla_qubits\n",
    "\n",
    "@qml.qnode(qml.device('default.qubit', wires = n_circuit_qubits, shots = 1))\n",
    "def circuit(time, trotter_number, imaginary):\n",
    "\n",
    "\n",
    "    ancilla_wire = n_circuit_qubits - 1\n",
    "\n",
    "    qml.Barrier(only_visual=True)\n",
    "\n",
    "    prepare_hartree_fock_state()\n",
    "\n",
    "    qml.Barrier(only_visual=True)\n",
    "\n",
    "    qml.Hadamard(ancilla_wire)\n",
    "\n",
    "    qml.Barrier(only_visual=True)\n",
    "\n",
    "    first_order_trotter_decomposition(jw_hamiltonian, time, trotter_number, control=ancilla_wire)\n",
    "\n",
    "    qml.Barrier(only_visual=True)\n",
    "\n",
    "    if imaginary:\n",
    "        qml.adjoint(qml.S(ancilla_wire))\n",
    "\n",
    "    qml.Hadamard(ancilla_wire)\n",
    "\n",
    "    return qml.sample(wires=ancilla_wire)\n",
    "\n",
    "\n",
    "\n",
    "# print(qml.draw(pauli_exponential)(((0, 'X'), (2, 'Z'), (3, 'Y')), 1.25j, 2.3))\n",
    "\n",
    "print(qml.draw(circuit)(1, 1, True))\n"
   ]
  },
  {
   "cell_type": "code",
   "execution_count": 259,
   "metadata": {},
   "outputs": [
    {
     "data": {
      "text/plain": [
       "1"
      ]
     },
     "execution_count": 259,
     "metadata": {},
     "output_type": "execute_result"
    }
   ],
   "source": [
    "def generate_Y(j, tau):\n",
    "\n",
    "    trotter_number = 1\n",
    "\n",
    "    total_time = j * tau\n",
    "\n",
    "    circuit_result = circuit(total_time, trotter_number, True)\n",
    "\n",
    "    if circuit_result == 1: \n",
    "        return -1\n",
    "    if circuit_result == 0:\n",
    "        return 1\n",
    "\n",
    "generate_Y(1,1)"
   ]
  },
  {
   "cell_type": "code",
   "execution_count": 260,
   "metadata": {},
   "outputs": [
    {
     "data": {
      "text/plain": [
       "1"
      ]
     },
     "execution_count": 260,
     "metadata": {},
     "output_type": "execute_result"
    }
   ],
   "source": [
    "def generate_X(j, tau):\n",
    "\n",
    "    trotter_number = 1\n",
    "\n",
    "    total_time = j * tau\n",
    "\n",
    "    circuit_result = circuit(total_time, trotter_number, False)\n",
    "\n",
    "    if circuit_result == 1: \n",
    "        return -1\n",
    "    if circuit_result == 0:\n",
    "        return 1\n",
    "\n",
    "generate_X(1,1)"
   ]
  },
  {
   "cell_type": "code",
   "execution_count": 261,
   "metadata": {},
   "outputs": [
    {
     "data": {
      "text/plain": [
       "(1+1j)"
      ]
     },
     "execution_count": 261,
     "metadata": {},
     "output_type": "execute_result"
    }
   ],
   "source": [
    "def generate_Z(j, tau):\n",
    "\n",
    "    X = generate_X(j, tau)\n",
    "    Y = generate_Y(j, tau)\n",
    "\n",
    "    return X + 1j * Y\n",
    "\n",
    "generate_Z(1,1)"
   ]
  },
  {
   "cell_type": "markdown",
   "metadata": {},
   "source": [
    "## Calculating the unbiased estimator $G(x; J,Z)$"
   ]
  },
  {
   "cell_type": "code",
   "execution_count": 296,
   "metadata": {},
   "outputs": [],
   "source": [
    "d = int(2e3)\n",
    "delta = 2e-3\n",
    "\n",
    "J_distribution = get_J_distribution(d, delta)"
   ]
  },
  {
   "cell_type": "code",
   "execution_count": 339,
   "metadata": {},
   "outputs": [
    {
     "data": {
      "text/plain": [
       "(8.779070904004417-7.17802129116481j)"
      ]
     },
     "execution_count": 339,
     "metadata": {},
     "output_type": "execute_result"
    }
   ],
   "source": [
    "def G(x, J, d, delta, tau):\n",
    "\n",
    "    F = calculate_normalization_factor(d, delta)\n",
    "\n",
    "    Z = generate_Z(J, tau)\n",
    "\n",
    "    exponential_theta = get_theta(d, delta, J)\n",
    "\n",
    "    return F*Z*np.exp(1j*J*x)*exponential_theta\n",
    "\n",
    "tau = pi/(4/pi*max_hamiltonian_eigenvalue)\n",
    "\n",
    "G(0.1, 1, d, delta, tau)\n"
   ]
  },
  {
   "cell_type": "code",
   "execution_count": 351,
   "metadata": {},
   "outputs": [],
   "source": [
    "def estimate_cdf(x, d, delta, tau, n_samples):\n",
    "\n",
    "    J_samples = np.real(J_distribution.rvs(size=n_samples))\n",
    "\n",
    "    G_samples = []\n",
    "\n",
    "    for k in range(n_samples):\n",
    "\n",
    "        j_k = J_samples[k]\n",
    "        # print(j_k)\n",
    "\n",
    "        g_k = G(x, float(j_k), d, delta, tau)\n",
    "        # print(g_k)\n",
    "\n",
    "        G_samples.append(g_k)\n",
    "    \n",
    "\n",
    "    G_samples = np.array(G_samples)\n",
    "\n",
    "    return np.mean(G_samples)"
   ]
  },
  {
   "cell_type": "code",
   "execution_count": 341,
   "metadata": {},
   "outputs": [
    {
     "data": {
      "text/plain": [
       "tensor([ -641,     1,    -1, -1881,    -1,     1,  1041,   -39,  1671,\n",
       "           -7,     1,     7,     5,    15,    -9,     7,    -1,   -75,\n",
       "           25,    -3,   -23,    -7,    -7,  1911,  1885,    -3,  1863,\n",
       "          -19,  -395,    -5,    -1,     1,    -1,     1,    -7,    91,\n",
       "         -679,    -7,   -31,   -23,     1,  1993,   -69,   -11,     5,\n",
       "        -1677,     3,    -1,   -31,    21,   397,    49,     3,   -93,\n",
       "            1,   227,    -1,  -189,    29,  1895,    29,    13,  -425,\n",
       "            3,   -17,    -9,   103,     1,    39,    -1,     1,   187,\n",
       "            1,  -923,     1, -1539,   -89,    53,  1663,  -785,   -77,\n",
       "           -3, -1345,     1,   -93,    13,    -7,     1,    11,     7,\n",
       "          -11,     1,     3,   321,    -1,  1025,   -45,  -905,     1,\n",
       "          161], requires_grad=True)"
      ]
     },
     "execution_count": 341,
     "metadata": {},
     "output_type": "execute_result"
    }
   ],
   "source": [
    "J_samples = J_distribution.rvs(size=100)\n",
    "J_samples"
   ]
  },
  {
   "cell_type": "code",
   "execution_count": 354,
   "metadata": {},
   "outputs": [
    {
     "data": {
      "text/plain": [
       "tensor(-0.18175506+0.19779227j, requires_grad=True)"
      ]
     },
     "execution_count": 354,
     "metadata": {},
     "output_type": "execute_result"
    }
   ],
   "source": [
    "x_array = np.linspace(-pi/3, pi/3, 1000)\n",
    "\n",
    "estimate_cdf(0, d, delta, tau, 3000)"
   ]
  }
 ],
 "metadata": {
  "kernelspec": {
   "display_name": "venv",
   "language": "python",
   "name": "python3"
  },
  "language_info": {
   "codemirror_mode": {
    "name": "ipython",
    "version": 3
   },
   "file_extension": ".py",
   "mimetype": "text/x-python",
   "name": "python",
   "nbconvert_exporter": "python",
   "pygments_lexer": "ipython3",
   "version": "3.10.9"
  },
  "orig_nbformat": 4
 },
 "nbformat": 4,
 "nbformat_minor": 2
}
