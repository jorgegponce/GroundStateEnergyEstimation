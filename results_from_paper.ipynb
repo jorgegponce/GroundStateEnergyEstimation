{
 "cells": [
  {
   "cell_type": "markdown",
   "metadata": {},
   "source": [
    "# Reproducing the Results from the Paper: *Heisenberg-Limited Ground-State Energy Estimation for Early Fault-Tolerant Quantum Computers*\n",
    "\n",
    "___\n",
    "\n",
    "## Key Idea:\n",
    "\n",
    "Let $\\rho$ be a good initial guess for the ground state wave function (a wavefunction with a good initial overlap) of a Hamiltonian of interest of interest $H$. Then, one can define a spectral measure of $\\tau H$ associated with $\\rho$ (where $\\tau \\in  \\mathbb{R}$ is chosen to normalize the Hamiltonian), and a CDF associated with it such that\n",
    "\n",
    "$$\n",
    "C(x) = \\sum_{k: \\lambda_k \\leq x} p_k \n",
    "\n",
    "$$\n",
    "\n",
    "where $p_k$ is the overlap between $\\rho$ and the $k^{th}$ eigenvalue $\\lambda_k$ of $H$. Consequently, **if one could calculate $C(x)$, it would be possible to find the ground state eigenvalue $\\lambda_0$ beacuse each jump of this CDF happen at a correspopnding eigenvalue.**\n",
    "\n",
    "\n",
    "**This algorithm consists of stochastically approximating the CDF $\\hat{C}(x)$ by sampling from a quantum circuit that performs the Hadamard test on $e^{-i j \\tau H}$, where $j$ is a random variable.**\n"
   ]
  },
  {
   "cell_type": "markdown",
   "metadata": {},
   "source": [
    "## Description of the Algorithm:\n",
    "\n",
    "To approximate the $\\hat{C}(x)$, they first define an approximate Heaviside function $F(x) = \\sum_{|j|\\leq d} \\hat{F_j}e^{ijx}$ (more details are provided later on in the implementation). Then, after some mathematical treatment, they define\n",
    "\n",
    "$$\n",
    "\\hat{C}(x) = \\sum_{|j|\\leq d} \\hat{F_j}e^{ijx} Tr[\\rho e^{-ij\\tau H}]\n",
    "$$\n",
    "\n",
    "### Hadamard Test (Quantum Subroutine)\n",
    "\n",
    "Now, with the Hadamard test we can use a quantum computer to evaluate $Tr[\\rho e^{-ij\\tau H}]$ as follows:\n",
    "\n",
    "Consider the following circuit\n",
    "\n",
    "![circuit](circuit.png)\n",
    "\n",
    "Let $W = I$ and let $X_j$ be a random variable such that\n",
    "\n",
    "$$\n",
    "X_j =\n",
    "\\begin{cases}\n",
    "1  \\text{ if the ancilla register is 0},\\\\\n",
    "-1 \\text{ if the ancilla register is 1}\\\\\n",
    "\\end{cases}\n",
    "$$\n",
    "\n",
    "Similarly, let $W = S^\\dag$ (where $S$ is known as the phase gate) and let $Y_j$ be a random variable such that\n",
    "\n",
    "$$\n",
    "Y_j =\n",
    "\\begin{cases}\n",
    "1  \\text{ if the ancilla register is 0},\\\\\n",
    "-1 \\text{ if the ancilla register is 1}\\\\\n",
    "\\end{cases}\n",
    "$$\n",
    "\n",
    "\n",
    "It can then be shown that\n",
    "\n",
    "$$ \n",
    "E[X_j] =\\text{Re} \\, Tr[\\rho e^{-ij\\tau H}]\n",
    "$$\n",
    "$$ \n",
    "E[Y_j] = \\text{Im} \\, Tr[\\rho e^{-ij\\tau H}]\n",
    "$$\n",
    "\n",
    "\n",
    "For simplicity, the paper defines a random variable\n",
    "\n",
    "$$\n",
    "Z_j = X_j + i Y_j\n",
    "$$\n",
    "\n",
    "and thus we have \n",
    "\n",
    "$$\n",
    "E[Z_j] = Tr[\\rho e^{-ij\\tau H}]\n",
    "$$\n",
    "\n",
    "\n",
    "\n",
    "\n",
    "### Stochastically evaluating $\\hat{C}(x)$\n",
    "\n",
    "To avoid evaluating all the terms of $\\hat{C}(x)$, they propose a monte carlo inspired stochastic method to aprroximate this sum. \n",
    "\n",
    "Method:\n",
    "\n",
    "Let $J$ be a random variable with support $\\{-d, -d+1, ..., d\\}$ and PMF \n",
    "$$\n",
    "Pr[J=j] = \\frac{|\\hat{F_j}|}{\\sum_{|j|\\leq d} |\\hat{F_j}|}\n",
    "$$\n",
    "\n",
    "They then show that \n",
    "\n",
    "$$\n",
    "E[(X_J + i Y_J)e^{i(\\theta_J + J x)}] = \\frac{\\hat{C}(x)}{\\sum_{|j|\\leq d} |\\hat{F_j}|}\n",
    "$$\n",
    "\n",
    "and thus they define the unbiased estimator\n",
    "\n",
    "$$\n",
    "G(x;J,Z_J) = (\\sum_{|j|\\leq d} |\\hat{F_j}|) * Z e^{i(\\theta_J + J x)}\n",
    "$$\n",
    "\n",
    "Such that \n",
    "\n",
    "$$\n",
    "\\hat{C}(x) = E[G(x;J,Z_J)]\n",
    "$$\n"
   ]
  },
  {
   "cell_type": "markdown",
   "metadata": {},
   "source": [
    "# Implementing the Algorithm\n",
    "\n",
    "1. Generate samples ${J_k}$\n",
    "2. Generate samples ${Z_k}$ from a quantum circuit\n",
    "3. Compute the estimator $G(x:J,Z)$ and estimate $\\hat{C}(x)$"
   ]
  },
  {
   "cell_type": "markdown",
   "metadata": {},
   "source": [
    "## Generating the $J_k$ samples\n"
   ]
  },
  {
   "cell_type": "markdown",
   "metadata": {},
   "source": [
    "To generate the samples of $J_k$, we first need to construct the function $F(x)$. In the paper, they do so in the following way:\n",
    "\n",
    "First, they define the following two functions\n",
    "\n",
    "![mollifier](M_N_definitions.png)\n",
    "\n",
    "and they plot them\n",
    "\n",
    "![M_plots](fig5.png)"
   ]
  },
  {
   "cell_type": "code",
   "execution_count": 137,
   "metadata": {},
   "outputs": [],
   "source": [
    "import numpy as np\n",
    "from matplotlib import pyplot as plt\n",
    "\n",
    "import scipy.integrate as integrate\n",
    "import scipy.special as special\n",
    "from scipy.stats import rv_discrete \n",
    "from numpy import sqrt, sin, cos, pi, log"
   ]
  },
  {
   "cell_type": "markdown",
   "metadata": {},
   "source": [
    "### Building $F(x)$"
   ]
  },
  {
   "cell_type": "code",
   "execution_count": 2,
   "metadata": {},
   "outputs": [
    {
     "data": {
      "text/plain": [
       "5.936724289483369"
      ]
     },
     "execution_count": 2,
     "metadata": {},
     "output_type": "execute_result"
    }
   ],
   "source": [
    "# Implementing N(d,delta)\n",
    "def N(d, delta):\n",
    "    \n",
    "    chebyshev_argument = lambda x: 1 + 2*(cos(x)-cos(delta))/(1+cos(delta))\n",
    "\n",
    "    chebyshev = lambda degree,x : special.eval_chebyt(degree, x)\n",
    "\n",
    "    integrand = lambda x: chebyshev(d, chebyshev_argument(x))\n",
    "\n",
    "    integral_value, _ = integrate.quad(integrand, -pi, pi)\n",
    "\n",
    "    return integral_value\n",
    "\n",
    "\n",
    "# Implementing M(d,delta, x)\n",
    "def M(d, delta, x):\n",
    "\n",
    "    chebyshev_argument = lambda n: 1 + 2*(cos(n)-cos(delta))/(1+cos(delta))\n",
    "\n",
    "    chebyshev = lambda degree, m: special.eval_chebyt(degree, m)\n",
    "\n",
    "    return chebyshev(d, chebyshev_argument(x))/N(d, delta)\n",
    "    \n",
    "\n",
    "# Looks good\n",
    "M(40, 0.2, 0)"
   ]
  },
  {
   "cell_type": "code",
   "execution_count": 3,
   "metadata": {},
   "outputs": [
    {
     "data": {
      "image/png": "[encoded data removed]",
      "text/plain": [
       "<Figure size 640x480 with 1 Axes>"
      ]
     },
     "metadata": {},
     "output_type": "display_data"
    }
   ],
   "source": [
    "x = np.linspace(-pi, pi, 500)\n",
    "\n",
    "plt.plot(x, M(20,0.2, x), color='blue', label = 'd = 20')\n",
    "plt.plot(x, M(40,0.2, x), color='orange', label = 'd = 40')\n",
    "\n",
    "plt.legend()\n",
    "\n",
    "plt.show()"
   ]
  },
  {
   "cell_type": "code",
   "execution_count": 4,
   "metadata": {},
   "outputs": [
    {
     "name": "stderr",
     "output_type": "stream",
     "text": [
      "/Users/jorgegarciaponce/Research/Aspuru/Ground State Energy Estimation/venv/lib/python3.10/site-packages/scipy/integrate/_quadpack_py.py:575: ComplexWarning: Casting complex values to real discards the imaginary part\n",
      "  return _quadpack._qagse(func,a,b,args,full_output,epsabs,epsrel,limit)\n"
     ]
    },
    {
     "data": {
      "text/plain": [
       "0.2836762375749892"
      ]
     },
     "execution_count": 4,
     "metadata": {},
     "output_type": "execute_result"
    }
   ],
   "source": [
    "def M_fourier(d, delta, k):\n",
    "    integrand = lambda x: M(d, delta, x) * np.exp(-1j * k * x)\n",
    "\n",
    "    integral_value, _ = integrate.quad(integrand, -pi, pi)\n",
    "\n",
    "    return integral_value/sqrt(2*pi)\n",
    "    \n",
    "M_fourier(20, 0.2, 10)"
   ]
  },
  {
   "cell_type": "code",
   "execution_count": 5,
   "metadata": {},
   "outputs": [],
   "source": [
    "def H_fourier(k):\n",
    "    if k%2 == 0:\n",
    "        return 0\n",
    "    else:\n",
    "        return 2/(1j * k * sqrt(2*pi))\n",
    "\n",
    "def F_fourier(d, delta, k):\n",
    "    return sqrt(2*pi) * M_fourier(d, delta, k) * H_fourier(k)"
   ]
  },
  {
   "cell_type": "code",
   "execution_count": 145,
   "metadata": {},
   "outputs": [
    {
     "name": "stderr",
     "output_type": "stream",
     "text": [
      "/Users/jorgegarciaponce/Research/Aspuru/Ground State Energy Estimation/venv/lib/python3.10/site-packages/scipy/integrate/_quadpack_py.py:575: ComplexWarning: Casting complex values to real discards the imaginary part\n",
      "  return _quadpack._qagse(func,a,b,args,full_output,epsabs,epsrel,limit)\n"
     ]
    },
    {
     "data": {
      "text/plain": [
       "(-1.5707963267948966+0j)"
      ]
     },
     "execution_count": 145,
     "metadata": {},
     "output_type": "execute_result"
    }
   ],
   "source": [
    "# Calculating \\theta_j\n",
    "\n",
    "def get_theta(d, delta, k):\n",
    "    return -1j * log(F_fourier(d, delta, k)/np.abs(F_fourier(d, delta, k)))\n",
    "\n",
    "\n",
    "get_theta(20, 0.2, 19)\n"
   ]
  },
  {
   "cell_type": "markdown",
   "metadata": {},
   "source": [
    "### Sampling $J_k$"
   ]
  },
  {
   "cell_type": "code",
   "execution_count": 6,
   "metadata": {},
   "outputs": [],
   "source": [
    "# Buildig the PMF:\n",
    "from functools import lru_cache\n",
    "\n",
    "\n",
    "@lru_cache(maxsize=None)\n",
    "def calculate_normalization_factor(d, delta):\n",
    "\n",
    "    normalization_factor = 0\n",
    "\n",
    "    for i in range(-d, d+1):\n",
    "\n",
    "        normalization_factor += np.abs(F_fourier(d, delta, i))\n",
    "    \n",
    "    return normalization_factor\n"
   ]
  },
  {
   "cell_type": "code",
   "execution_count": 7,
   "metadata": {},
   "outputs": [],
   "source": [
    "\n",
    "def J_pmf(j, d, delta):\n",
    "\n",
    "    normalization_factor = calculate_normalization_factor(d, delta)\n",
    "\n",
    "    return  np.abs(F_fourier(d, delta, j))/normalization_factor\n",
    "\n"
   ]
  },
  {
   "cell_type": "code",
   "execution_count": 8,
   "metadata": {},
   "outputs": [
    {
     "name": "stdout",
     "output_type": "stream",
     "text": [
      "0.9999999999999999\n"
     ]
    }
   ],
   "source": [
    "# Sanity check to make sure it is a valid pmf\n",
    "\n",
    "total_p_sum = 0\n",
    "\n",
    "for i in range(-20,21):\n",
    "    total_p_sum += J_pmf(i,20,0.1)\n",
    "\n",
    "print(total_p_sum)"
   ]
  },
  {
   "cell_type": "code",
   "execution_count": 39,
   "metadata": {},
   "outputs": [],
   "source": [
    "def get_J_distribution(d, delta):\n",
    "\n",
    "    support = range(-d, d+1)\n",
    "\n",
    "    probabilities = [J_pmf(i, d, delta) for i in support]\n",
    "\n",
    "    custom_distribution = rv_discrete(name = 'custom', values=(np.array(support), np.array(probabilities)))\n",
    "\n",
    "    return custom_distribution\n"
   ]
  },
  {
   "cell_type": "code",
   "execution_count": 134,
   "metadata": {},
   "outputs": [
    {
     "name": "stderr",
     "output_type": "stream",
     "text": [
      "/Users/jorgegarciaponce/Research/Aspuru/Ground State Energy Estimation/venv/lib/python3.10/site-packages/scipy/integrate/_quadpack_py.py:575: ComplexWarning: Casting complex values to real discards the imaginary part\n",
      "  return _quadpack._qagse(func,a,b,args,full_output,epsabs,epsrel,limit)\n"
     ]
    },
    {
     "data": {
      "image/png": "[encoded data removed]",
      "text/plain": [
       "<Figure size 640x480 with 1 Axes>"
      ]
     },
     "metadata": {},
     "output_type": "display_data"
    }
   ],
   "source": [
    "# Plotting the PMF\n",
    "J_distribution = get_J_distribution(20, 0.2)\n",
    "\n",
    "fig, ax = plt.subplots(1, 1)\n",
    "xk = [i for i in range(-20,21)]\n",
    "ax.plot(xk, J_distribution.pmf(xk), 'ro', ms=10, mec='r')\n",
    "ax.vlines(xk, 0, J_distribution.pmf(xk), colors='r', lw=4)\n",
    "plt.show()"
   ]
  },
  {
   "cell_type": "code",
   "execution_count": 136,
   "metadata": {},
   "outputs": [
    {
     "name": "stderr",
     "output_type": "stream",
     "text": [
      "/Users/jorgegarciaponce/Research/Aspuru/Ground State Energy Estimation/venv/lib/python3.10/site-packages/scipy/integrate/_quadpack_py.py:575: ComplexWarning: Casting complex values to real discards the imaginary part\n",
      "  return _quadpack._qagse(func,a,b,args,full_output,epsabs,epsrel,limit)\n"
     ]
    },
    {
     "data": {
      "text/plain": [
       "0.0"
      ]
     },
     "execution_count": 136,
     "metadata": {},
     "output_type": "execute_result"
    }
   ],
   "source": [
    "# Hope this isn't wrong\n",
    "\n",
    "J_pmf(2,20,0.2)"
   ]
  },
  {
   "cell_type": "code",
   "execution_count": 41,
   "metadata": {},
   "outputs": [
    {
     "data": {
      "text/plain": [
       "array([ -5,   3,   1,  -1,  -7,   1,   1,   1,  17, -13,   1,   7,  -3,\n",
       "        11,  -1,  -7, -17,  -1,  -1,   1,   3,   1,   5,   5,  -7,   5,\n",
       "        -5,  -5,  -1,   9,  -1,   1,   3,  -5,   5,  -1,  -7,   1,   1,\n",
       "        -1,  -3,  -1,   1,   1, -11,   3,   3,  -1,  -1,  -3,   1,   1,\n",
       "        -1,   7,   3,   1,  -5,   1, -11,  -1, -17,   5,  17,   9,   3,\n",
       "         5,  -3,   3,   1,  -1,   1,   3,  -1,   3,   1, -15,   5,  -1,\n",
       "         1,   1,  11,   1,   1,  -1,   3,   1,  -3,   1,   3,  -1,   1,\n",
       "        17,  -3,  -1,   5,  11,  -3,   3,  -1,  -1])"
      ]
     },
     "execution_count": 41,
     "metadata": {},
     "output_type": "execute_result"
    }
   ],
   "source": [
    "# Sample from the distribution\n",
    "num_samples = 100\n",
    "samples = J_distribution.rvs(size=num_samples)\n",
    "\n",
    "samples"
   ]
  },
  {
   "cell_type": "markdown",
   "metadata": {},
   "source": [
    "## Sampling $Z_k$ from the Quantum Circuit"
   ]
  },
  {
   "cell_type": "markdown",
   "metadata": {},
   "source": [
    "Recall the circuit and the random variable definitions:\n",
    "\n",
    "![circuit](circuit.png)\n",
    "\n",
    "Let $W = I$ and let $X_j$ be a random variable such that\n",
    "\n",
    "$$\n",
    "X_j =\n",
    "\\begin{cases}\n",
    "1  \\text{ if the ancilla register is 0},\\\\\n",
    "-1 \\text{ if the ancilla register is 1}\\\\\n",
    "\\end{cases}\n",
    "$$\n",
    "\n",
    "Similarly, let $W = S^\\dag$ (where $S$ is known as the phase gate) and let $Y_j$ be a random variable such that\n",
    "\n",
    "$$\n",
    "Y_j =\n",
    "\\begin{cases}\n",
    "1  \\text{ if the ancilla register is 0},\\\\\n",
    "-1 \\text{ if the ancilla register is 1}\\\\\n",
    "\\end{cases}\n",
    "$$"
   ]
  },
  {
   "cell_type": "markdown",
   "metadata": {},
   "source": [
    "### Fermi Hubbard Hamiltonian (Open Fermion)"
   ]
  },
  {
   "cell_type": "code",
   "execution_count": 42,
   "metadata": {},
   "outputs": [],
   "source": [
    "# from scipy import sparse\n",
    "from scipy.sparse import linalg\n",
    "from openfermion import fermi_hubbard, jordan_wigner, get_sparse_operator\n",
    "from openfermion.utils import count_qubits"
   ]
  },
  {
   "cell_type": "code",
   "execution_count": 148,
   "metadata": {},
   "outputs": [
    {
     "name": "stdout",
     "output_type": "stream",
     "text": [
      "Ground State Energy: -6.562355678777162\n",
      "JWT transformed Hamiltonian:\n",
      "(10+0j) [] +\n",
      "(1.25+0j) [X0 Z1 X2] +\n",
      "(1.25+0j) [Y0 Z1 Y2] +\n",
      "(-2.5+0j) [Z0] +\n",
      "(2.5+0j) [Z0 Z1] +\n",
      "(1.25+0j) [X1 Z2 X3] +\n",
      "(1.25+0j) [Y1 Z2 Y3] +\n",
      "(-2.5+0j) [Z1] +\n",
      "(1.25+0j) [X2 Z3 X4] +\n",
      "(1.25+0j) [Y2 Z3 Y4] +\n",
      "(-2.5+0j) [Z2] +\n",
      "(2.5+0j) [Z2 Z3] +\n",
      "(1.25+0j) [X3 Z4 X5] +\n",
      "(1.25+0j) [Y3 Z4 Y5] +\n",
      "(-2.5+0j) [Z3] +\n",
      "(1.25+0j) [X4 Z5 X6] +\n",
      "(1.25+0j) [Y4 Z5 Y6] +\n",
      "(-2.5+0j) [Z4] +\n",
      "(2.5+0j) [Z4 Z5] +\n",
      "(1.25+0j) [X5 Z6 X7] +\n",
      "(1.25+0j) [Y5 Z6 Y7] +\n",
      "(-2.5+0j) [Z5] +\n",
      "(-2.5+0j) [Z6] +\n",
      "(2.5+0j) [Z6 Z7] +\n",
      "(-2.5+0j) [Z7]\n",
      "8\n",
      "[40.]\n"
     ]
    }
   ],
   "source": [
    "\"\"\"Define the Hamiltonian.\"\"\"\n",
    "# Parameters from the paper\n",
    "\n",
    "nsites = 4\n",
    "occupation_number = 2\n",
    "U = 10.0\n",
    "\n",
    "filled_sites = int(nsites/2) # Half filling\n",
    "\n",
    "# Hopping Integral\n",
    "\n",
    "# In the paper U/t = 4\n",
    "t = U / 4\n",
    "\n",
    "# Is the sign of the tunneling right?\n",
    "fermionic_hamiltonian = fermi_hubbard(1, nsites, tunneling=-t, coulomb=U, periodic=False)\n",
    "\n",
    "# Map to QubitOperator using the JW transform\n",
    "jw_hamiltonian = jordan_wigner(fermionic_hamiltonian)\n",
    "\n",
    "# Convert to Scipy sparse matrix\n",
    "hamiltonian_jw_sparse = get_sparse_operator(jw_hamiltonian)\n",
    "\n",
    "# Compute ground energy\n",
    "eigs, _ = linalg.eigsh(hamiltonian_jw_sparse, k=1, which=\"SA\")\n",
    "ground_energy = eigs[0]\n",
    "\n",
    "print(f\"Ground State Energy: {ground_energy}\")\n",
    "print(\"JWT transformed Hamiltonian:\")\n",
    "print(jw_hamiltonian)\n",
    "\n",
    "jw_hamiltonian_qubits = count_qubits(jw_hamiltonian)\n",
    "print(jw_hamiltonian_qubits)\n",
    "\n",
    "# compute largest eigenvalue\n",
    "hamiltonian_jw_sparse\n",
    "\n",
    "max_hamiltonian_eigenvalue, _ = linalg.eigsh(hamiltonian_jw_sparse, k=1, which=\"LM\")\n",
    "print(max_hamiltonian_eigenvalue)\n",
    "\n"
   ]
  },
  {
   "cell_type": "markdown",
   "metadata": {},
   "source": [
    "### Building the Circuit (Pennylane)"
   ]
  },
  {
   "cell_type": "code",
   "execution_count": 44,
   "metadata": {},
   "outputs": [],
   "source": [
    "import pennylane as qml\n",
    "from pennylane import numpy as np"
   ]
  },
  {
   "cell_type": "code",
   "execution_count": 45,
   "metadata": {},
   "outputs": [],
   "source": [
    "def add_cnots(cnot_pairs):\n",
    "\n",
    "    for pair in cnot_pairs:\n",
    "\n",
    "        control, target = pair\n",
    "\n",
    "        qml.CNOT([control, target])\n",
    "\n",
    "def change_to_z_basis(pauli_string):\n",
    "\n",
    "    for pauli_tuple in pauli_string:\n",
    "\n",
    "        qubit = pauli_tuple[0]\n",
    "        pauli = pauli_tuple[1]\n",
    "        if pauli == 'X':\n",
    "            qml.Hadamard(qubit)\n",
    "        if pauli == 'Y':\n",
    "            qml.RX(-np.pi/2, qubit)\n",
    "\n",
    "def pauli_time_evolution(pauli_string, coefficient, time, control = -1):\n",
    "\n",
    "    if len(pauli_string) == 0:\n",
    "        return None\n",
    "    \n",
    "    # Getting the CNOT pairs\n",
    "    target_qubit = pauli_string[-1][0]\n",
    "\n",
    "    cnot_pairs = []\n",
    "\n",
    "    for pauli_tuple in pauli_string:\n",
    "\n",
    "        control_qubit = pauli_tuple[0]\n",
    "\n",
    "        if control_qubit != target_qubit:\n",
    "            cnot_pairs.append([control_qubit, target_qubit])\n",
    "\n",
    "\n",
    "    ###### Applying the circuit\n",
    "\n",
    "    # Changing basis\n",
    "    change_to_z_basis(pauli_string)\n",
    "\n",
    "    # qml.Barrier(only_visual=True)\n",
    "\n",
    "    # Adding CNOT gates\n",
    "    if len(cnot_pairs) > 0:\n",
    "        add_cnots(cnot_pairs)\n",
    "\n",
    "    # qml.Barrier(only_visual=True)\n",
    "\n",
    "    # Adding the rotation gate\n",
    "    theta = 2 * coefficient * time \n",
    "\n",
    "    if control != -1:\n",
    "        qml.ctrl(qml.RZ, control)(theta, target_qubit)\n",
    "    else:\n",
    "        qml.RZ(theta, target_qubit)\n",
    "\n",
    "    # qml.Barrier(only_visual=True)\n",
    "\n",
    "    # Undoing CNOT gates\n",
    "    if len(cnot_pairs) > 0:\n",
    "        cnot_pairs.reverse()\n",
    "        add_cnots(cnot_pairs)\n",
    "\n",
    "    # qml.Barrier(only_visual=True)\n",
    "\n",
    "    # Undoing change of basis\n",
    "    change_to_z_basis(pauli_string)\n",
    "\n",
    "    # qml.Barrier(only_visual=True)\n",
    "\n"
   ]
  },
  {
   "cell_type": "code",
   "execution_count": 46,
   "metadata": {},
   "outputs": [],
   "source": [
    "def first_order_trotter_decomposition(qubit_hamiltonian, time, trotter_number, control = -1):\n",
    "\n",
    "    dt = time/trotter_number\n",
    "\n",
    "    for i in range(trotter_number): \n",
    "\n",
    "        for pauli_string, coefficient in qubit_hamiltonian.terms.items():\n",
    "\n",
    "            pauli_time_evolution(pauli_string, coefficient, dt, control = control)\n",
    "\n"
   ]
  },
  {
   "cell_type": "code",
   "execution_count": 47,
   "metadata": {},
   "outputs": [],
   "source": [
    "def prepare_hartree_fock_state():\n",
    "\n",
    "    for i in range(occupation_number):\n",
    "        qml.PauliX(i)\n",
    "\n"
   ]
  },
  {
   "cell_type": "code",
   "execution_count": 48,
   "metadata": {},
   "outputs": [
    {
     "name": "stdout",
     "output_type": "stream",
     "text": [
      "0: ──||──X──||─────||──RX(-1.57)─╭●───────────────────────╭●──RX(-1.57)──H─╭●───────────────────\n",
      "1: ──||──X──||─────||────────────│──╭●─────────────────╭●─│────────────────│──╭●────────────────\n",
      "2: ──||─────||─────||──RX(-1.57)─╰X─╰X─╭RZ(2.50+0.00j)─╰X─╰X──RX(-1.57)──H─╰X─╰X─╭RZ(2.50+0.00j)\n",
      "3: ──||─────||─────||──────────────────│─────────────────────────────────────────│──────────────\n",
      "4: ──||─────||─────||──────────────────│─────────────────────────────────────────│──────────────\n",
      "5: ──||─────||─────||──────────────────│─────────────────────────────────────────│──────────────\n",
      "6: ──||─────||─────||──────────────────│─────────────────────────────────────────│──────────────\n",
      "7: ──||─────||─────||──────────────────│─────────────────────────────────────────│──────────────\n",
      "8: ──||─────||──H──||──────────────────╰●────────────────────────────────────────╰●─────────────\n",
      "\n",
      "─────────────╭●──H─────────────────────────────────────────────────────────────────────────────────\n",
      "──╭●─────────│───RX(-1.57)─╭●───────────────────────╭●──RX(-1.57)──H─╭●───────────────────────╭●──H\n",
      "──╰X─────────╰X──H─────────│──╭●─────────────────╭●─│────────────────│──╭●─────────────────╭●─│────\n",
      "───RX(-1.57)───────────────╰X─╰X─╭RZ(2.50+0.00j)─╰X─╰X──RX(-1.57)──H─╰X─╰X─╭RZ(2.50+0.00j)─╰X─╰X──H\n",
      "─────────────────────────────────│─────────────────────────────────────────│───────────────────────\n",
      "─────────────────────────────────│─────────────────────────────────────────│───────────────────────\n",
      "─────────────────────────────────│─────────────────────────────────────────│───────────────────────\n",
      "─────────────────────────────────│─────────────────────────────────────────│───────────────────────\n",
      "─────────────────────────────────╰●────────────────────────────────────────╰●──────────────────────\n",
      "\n",
      "───────────────────╭RZ(-5.00+0.00j)─╭●─────────────────╭●────────────────────────────────────\n",
      "──╭RZ(-5.00+0.00j)─│────────────────╰X─╭RZ(5.00+0.00j)─╰X────────────────────────────────────\n",
      "──│────────────────│───────────────────│────────────────RX(-1.57)─╭●───────────────────────╭●\n",
      "──│────────────────│───────────────────│──────────────────────────│──╭●─────────────────╭●─│─\n",
      "──│────────────────│───────────────────│────────────────RX(-1.57)─╰X─╰X─╭RZ(2.50+0.00j)─╰X─╰X\n",
      "──│────────────────│───────────────────│────────────────────────────────│────────────────────\n",
      "──│────────────────│───────────────────│────────────────────────────────│────────────────────\n",
      "──│────────────────│───────────────────│────────────────────────────────│────────────────────\n",
      "──╰●───────────────╰●──────────────────╰●───────────────────────────────╰●───────────────────\n",
      "\n",
      "──────────────────────────────────────────────────────────────────────────────────────────\n",
      "──────────────────────────────────────────────────────────────────────────────────────────\n",
      "───RX(-1.57)──H─╭●───────────────────────────────╭●──H────────────────────────────────────\n",
      "────────────────│──╭●─────────────────╭●─────────│───RX(-1.57)─╭●───────────────────────╭●\n",
      "───RX(-1.57)──H─╰X─╰X─╭RZ(2.50+0.00j)─╰X─────────╰X──H─────────│──╭●─────────────────╭●─│─\n",
      "──────────────────────│────────────────RX(-1.57)───────────────╰X─╰X─╭RZ(2.50+0.00j)─╰X─╰X\n",
      "──────────────────────│──────────────────────────────────────────────│────────────────────\n",
      "──────────────────────│──────────────────────────────────────────────│────────────────────\n",
      "──────────────────────╰●─────────────────────────────────────────────╰●───────────────────\n",
      "\n",
      "───────────────────────────────────────────────────────────────────────────────────────────────────\n",
      "───────────────────────────────────────────────────────────────────────────────────────────────────\n",
      "────────────────────────────────────────────────────────────────╭RZ(-5.00+0.00j)─╭●────────────────\n",
      "───RX(-1.57)──H─╭●───────────────────────╭●──H─╭RZ(-5.00+0.00j)─│────────────────╰X─╭RZ(5.00+0.00j)\n",
      "────────────────│──╭●─────────────────╭●─│─────│────────────────│───────────────────│──────────────\n",
      "───RX(-1.57)──H─╰X─╰X─╭RZ(2.50+0.00j)─╰X─╰X──H─│────────────────│───────────────────│──────────────\n",
      "──────────────────────│────────────────────────│────────────────│───────────────────│──────────────\n",
      "──────────────────────│────────────────────────│────────────────│───────────────────│──────────────\n",
      "──────────────────────╰●───────────────────────╰●───────────────╰●──────────────────╰●─────────────\n",
      "\n",
      "──────────────────────────────────────────────────────────────────────────────────────────\n",
      "──────────────────────────────────────────────────────────────────────────────────────────\n",
      "──╭●──────────────────────────────────────────────────────────────────────────────────────\n",
      "──╰X──────────────────────────────────────────────────────────────────────────────────────\n",
      "───RX(-1.57)─╭●───────────────────────╭●──RX(-1.57)──H─╭●───────────────────────────────╭●\n",
      "─────────────│──╭●─────────────────╭●─│────────────────│──╭●─────────────────╭●─────────│─\n",
      "───RX(-1.57)─╰X─╰X─╭RZ(2.50+0.00j)─╰X─╰X──RX(-1.57)──H─╰X─╰X─╭RZ(2.50+0.00j)─╰X─────────╰X\n",
      "───────────────────│─────────────────────────────────────────│────────────────RX(-1.57)───\n",
      "───────────────────╰●────────────────────────────────────────╰●───────────────────────────\n",
      "\n",
      "─────────────────────────────────────────────────────────────────────────────────────\n",
      "─────────────────────────────────────────────────────────────────────────────────────\n",
      "─────────────────────────────────────────────────────────────────────────────────────\n",
      "─────────────────────────────────────────────────────────────────────────────────────\n",
      "───H─────────────────────────────────────────────────────────────────────────────────\n",
      "───RX(-1.57)─╭●───────────────────────╭●──RX(-1.57)──H─╭●───────────────────────╭●──H\n",
      "───H─────────│──╭●─────────────────╭●─│────────────────│──╭●─────────────────╭●─│────\n",
      "─────────────╰X─╰X─╭RZ(2.50+0.00j)─╰X─╰X──RX(-1.57)──H─╰X─╰X─╭RZ(2.50+0.00j)─╰X─╰X──H\n",
      "───────────────────╰●────────────────────────────────────────╰●──────────────────────\n",
      "\n",
      "───────────────────────────────────────────────────────────────────────────────────────────\n",
      "───────────────────────────────────────────────────────────────────────────────────────────\n",
      "───────────────────────────────────────────────────────────────────────────────────────────\n",
      "───────────────────────────────────────────────────────────────────────────────────────────\n",
      "───────────────────╭RZ(-5.00+0.00j)─╭●─────────────────╭●──────────────────────────────────\n",
      "──╭RZ(-5.00+0.00j)─│────────────────╰X─╭RZ(5.00+0.00j)─╰X──────────────────────────────────\n",
      "──│────────────────│───────────────────│────────────────────────────────╭RZ(-5.00+0.00j)─╭●\n",
      "──│────────────────│───────────────────│───────────────╭RZ(-5.00+0.00j)─│────────────────╰X\n",
      "──╰●───────────────╰●──────────────────╰●──────────────╰●───────────────╰●─────────────────\n",
      "\n",
      "──────────────────────||────────┤        \n",
      "──────────────────────||────────┤        \n",
      "──────────────────────||────────┤        \n",
      "──────────────────────||────────┤        \n",
      "──────────────────────||────────┤        \n",
      "──────────────────────||────────┤        \n",
      "──────────────────╭●──||────────┤        \n",
      "──╭RZ(5.00+0.00j)─╰X──||────────┤        \n",
      "──╰●──────────────────||──S†──H─┤  Sample\n"
     ]
    }
   ],
   "source": [
    "n_ancilla_qubits = 1\n",
    "\n",
    "n_circuit_qubits = jw_hamiltonian_qubits + n_ancilla_qubits\n",
    "\n",
    "@qml.qnode(qml.device('default.qubit', wires = n_circuit_qubits, shots = 1))\n",
    "def circuit(time, trotter_number, imaginary):\n",
    "\n",
    "\n",
    "    ancilla_wire = n_circuit_qubits - 1\n",
    "\n",
    "    qml.Barrier(only_visual=True)\n",
    "\n",
    "    prepare_hartree_fock_state()\n",
    "\n",
    "    qml.Barrier(only_visual=True)\n",
    "\n",
    "    qml.Hadamard(ancilla_wire)\n",
    "\n",
    "    qml.Barrier(only_visual=True)\n",
    "\n",
    "    first_order_trotter_decomposition(jw_hamiltonian, time, trotter_number, control=ancilla_wire)\n",
    "\n",
    "    qml.Barrier(only_visual=True)\n",
    "\n",
    "    if imaginary:\n",
    "        qml.adjoint(qml.S(ancilla_wire))\n",
    "\n",
    "    qml.Hadamard(ancilla_wire)\n",
    "\n",
    "    return qml.sample(wires=ancilla_wire)\n",
    "\n",
    "\n",
    "\n",
    "# print(qml.draw(pauli_exponential)(((0, 'X'), (2, 'Z'), (3, 'Y')), 1.25j, 2.3))\n",
    "\n",
    "print(qml.draw(circuit)(1, 1, True))\n"
   ]
  },
  {
   "cell_type": "code",
   "execution_count": 56,
   "metadata": {},
   "outputs": [
    {
     "data": {
      "text/plain": [
       "1"
      ]
     },
     "execution_count": 56,
     "metadata": {},
     "output_type": "execute_result"
    }
   ],
   "source": [
    "def generate_Y(j, tau):\n",
    "\n",
    "    trotter_number = 1\n",
    "\n",
    "    total_time = j * tau\n",
    "\n",
    "    circuit_result = circuit(total_time, trotter_number, True)\n",
    "\n",
    "    if circuit_result == 1: \n",
    "        return -1\n",
    "    if circuit_result == 0:\n",
    "        return 1\n",
    "\n",
    "generate_Y(1,1)"
   ]
  },
  {
   "cell_type": "code",
   "execution_count": 60,
   "metadata": {},
   "outputs": [
    {
     "data": {
      "text/plain": [
       "1"
      ]
     },
     "execution_count": 60,
     "metadata": {},
     "output_type": "execute_result"
    }
   ],
   "source": [
    "def generate_X(j, tau):\n",
    "\n",
    "    trotter_number = 1\n",
    "\n",
    "    total_time = j * tau\n",
    "\n",
    "    circuit_result = circuit(total_time, trotter_number, False)\n",
    "\n",
    "    if circuit_result == 1: \n",
    "        return -1\n",
    "    if circuit_result == 0:\n",
    "        return 1\n",
    "\n",
    "generate_X(1,1)"
   ]
  },
  {
   "cell_type": "code",
   "execution_count": 133,
   "metadata": {},
   "outputs": [
    {
     "data": {
      "text/plain": [
       "(1-1j)"
      ]
     },
     "execution_count": 133,
     "metadata": {},
     "output_type": "execute_result"
    }
   ],
   "source": [
    "def generate_Z(j, tau):\n",
    "\n",
    "    X = generate_X(j, tau)\n",
    "    Y = generate_Y(j, tau)\n",
    "\n",
    "    return X + 1j * Y\n",
    "\n",
    "generate_Z(1,1)"
   ]
  },
  {
   "cell_type": "markdown",
   "metadata": {},
   "source": [
    "## Calculating the unbiased estimator $G(x; J,Z)$"
   ]
  },
  {
   "cell_type": "code",
   "execution_count": 150,
   "metadata": {},
   "outputs": [
    {
     "name": "stderr",
     "output_type": "stream",
     "text": [
      "/var/folders/2q/r_plhm951s93s5nlm_f8ymjr0000gn/T/ipykernel_1060/258887696.py:10: IntegrationWarning: The integral is probably divergent, or slowly convergent.\n",
      "  integral_value, _ = integrate.quad(integrand, -pi, pi)\n",
      "/Users/jorgegarciaponce/Research/Aspuru/Ground State Energy Estimation/venv/lib/python3.10/site-packages/scipy/integrate/_quadpack_py.py:575: ComplexWarning: Casting complex values to real discards the imaginary part\n",
      "  return _quadpack._qagse(func,a,b,args,full_output,epsabs,epsrel,limit)\n",
      "/var/folders/2q/r_plhm951s93s5nlm_f8ymjr0000gn/T/ipykernel_1060/3720883131.py:4: IntegrationWarning: The maximum number of subdivisions (50) has been achieved.\n",
      "  If increasing the limit yields no improvement it is advised to analyze \n",
      "  the integrand in order to determine the difficulties.  If the position of a \n",
      "  local difficulty can be determined (singularity, discontinuity) one will \n",
      "  probably gain from splitting up the interval and calling the integrator \n",
      "  on the subranges.  Perhaps a special-purpose integrator should be used.\n",
      "  integral_value, _ = integrate.quad(integrand, -pi, pi)\n"
     ]
    }
   ],
   "source": [
    "def G(x, J, d, delta, tau):\n",
    "\n",
    "    F = calculate_normalization_factor(d, delta)\n",
    "\n",
    "    Z = generate_Z(J, tau)\n",
    "\n",
    "    theta = get_theta(d, delta, J)\n",
    "\n",
    "    return F*Z*np.exp(1j*(theta + J*x))\n",
    "\n",
    "tau = pi/(4/pi*max_hamiltonian_eigenvalue)\n",
    "\n",
    "d = int(2e4)\n",
    "delta = 2e-4\n",
    "\n",
    "G(0.1, 10, d, delta, tau)\n"
   ]
  }
 ],
 "metadata": {
  "kernelspec": {
   "display_name": "venv",
   "language": "python",
   "name": "python3"
  },
  "language_info": {
   "codemirror_mode": {
    "name": "ipython",
    "version": 3
   },
   "file_extension": ".py",
   "mimetype": "text/x-python",
   "name": "python",
   "nbconvert_exporter": "python",
   "pygments_lexer": "ipython3",
   "version": "3.10.9"
  },
  "orig_nbformat": 4
 },
 "nbformat": 4,
 "nbformat_minor": 2
}
